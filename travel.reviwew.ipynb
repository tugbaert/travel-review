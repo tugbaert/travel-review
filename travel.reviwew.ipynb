{
 "cells": [
  {
   "cell_type": "code",
   "execution_count": 3,
   "metadata": {},
   "outputs": [],
   "source": [
    "import pandas as pd\n",
    "import numpy as np\n",
    "import matplotlib.pyplot as plt \n",
    "import seaborn as sns \n",
    "import plotly.express as px"
   ]
  },
  {
   "cell_type": "code",
   "execution_count": 4,
   "metadata": {},
   "outputs": [
    {
     "data": {
      "text/html": [
       "<div>\n",
       "<style scoped>\n",
       "    .dataframe tbody tr th:only-of-type {\n",
       "        vertical-align: middle;\n",
       "    }\n",
       "\n",
       "    .dataframe tbody tr th {\n",
       "        vertical-align: top;\n",
       "    }\n",
       "\n",
       "    .dataframe thead th {\n",
       "        text-align: right;\n",
       "    }\n",
       "</style>\n",
       "<table border=\"1\" class=\"dataframe\">\n",
       "  <thead>\n",
       "    <tr style=\"text-align: right;\">\n",
       "      <th></th>\n",
       "      <th>Trip ID</th>\n",
       "      <th>Destination</th>\n",
       "      <th>Start date</th>\n",
       "      <th>End date</th>\n",
       "      <th>Duration (days)</th>\n",
       "      <th>Traveler name</th>\n",
       "      <th>Traveler age</th>\n",
       "      <th>Traveler gender</th>\n",
       "      <th>Traveler nationality</th>\n",
       "      <th>Accommodation type</th>\n",
       "      <th>Accommodation cost</th>\n",
       "      <th>Transportation type</th>\n",
       "      <th>Transportation cost</th>\n",
       "    </tr>\n",
       "  </thead>\n",
       "  <tbody>\n",
       "    <tr>\n",
       "      <th>0</th>\n",
       "      <td>1</td>\n",
       "      <td>London, UK</td>\n",
       "      <td>5/1/2023</td>\n",
       "      <td>5/8/2023</td>\n",
       "      <td>7.0</td>\n",
       "      <td>John Smith</td>\n",
       "      <td>35.0</td>\n",
       "      <td>Male</td>\n",
       "      <td>American</td>\n",
       "      <td>Hotel</td>\n",
       "      <td>1200</td>\n",
       "      <td>Flight</td>\n",
       "      <td>600</td>\n",
       "    </tr>\n",
       "    <tr>\n",
       "      <th>1</th>\n",
       "      <td>2</td>\n",
       "      <td>Phuket, Thailand</td>\n",
       "      <td>6/15/2023</td>\n",
       "      <td>6/20/2023</td>\n",
       "      <td>5.0</td>\n",
       "      <td>Jane Doe</td>\n",
       "      <td>28.0</td>\n",
       "      <td>Female</td>\n",
       "      <td>Canadian</td>\n",
       "      <td>Resort</td>\n",
       "      <td>800</td>\n",
       "      <td>Flight</td>\n",
       "      <td>500</td>\n",
       "    </tr>\n",
       "    <tr>\n",
       "      <th>2</th>\n",
       "      <td>3</td>\n",
       "      <td>Bali, Indonesia</td>\n",
       "      <td>7/1/2023</td>\n",
       "      <td>7/8/2023</td>\n",
       "      <td>7.0</td>\n",
       "      <td>David Lee</td>\n",
       "      <td>45.0</td>\n",
       "      <td>Male</td>\n",
       "      <td>Korean</td>\n",
       "      <td>Villa</td>\n",
       "      <td>1000</td>\n",
       "      <td>Flight</td>\n",
       "      <td>700</td>\n",
       "    </tr>\n",
       "    <tr>\n",
       "      <th>3</th>\n",
       "      <td>4</td>\n",
       "      <td>New York, USA</td>\n",
       "      <td>8/15/2023</td>\n",
       "      <td>8/29/2023</td>\n",
       "      <td>14.0</td>\n",
       "      <td>Sarah Johnson</td>\n",
       "      <td>29.0</td>\n",
       "      <td>Female</td>\n",
       "      <td>British</td>\n",
       "      <td>Hotel</td>\n",
       "      <td>2000</td>\n",
       "      <td>Flight</td>\n",
       "      <td>1000</td>\n",
       "    </tr>\n",
       "    <tr>\n",
       "      <th>4</th>\n",
       "      <td>5</td>\n",
       "      <td>Tokyo, Japan</td>\n",
       "      <td>9/10/2023</td>\n",
       "      <td>9/17/2023</td>\n",
       "      <td>7.0</td>\n",
       "      <td>Kim Nguyen</td>\n",
       "      <td>26.0</td>\n",
       "      <td>Female</td>\n",
       "      <td>Vietnamese</td>\n",
       "      <td>Airbnb</td>\n",
       "      <td>700</td>\n",
       "      <td>Train</td>\n",
       "      <td>200</td>\n",
       "    </tr>\n",
       "  </tbody>\n",
       "</table>\n",
       "</div>"
      ],
      "text/plain": [
       "   Trip ID       Destination Start date   End date  Duration (days)  \\\n",
       "0        1        London, UK   5/1/2023   5/8/2023              7.0   \n",
       "1        2  Phuket, Thailand  6/15/2023  6/20/2023              5.0   \n",
       "2        3   Bali, Indonesia   7/1/2023   7/8/2023              7.0   \n",
       "3        4     New York, USA  8/15/2023  8/29/2023             14.0   \n",
       "4        5      Tokyo, Japan  9/10/2023  9/17/2023              7.0   \n",
       "\n",
       "   Traveler name  Traveler age Traveler gender Traveler nationality  \\\n",
       "0     John Smith          35.0            Male             American   \n",
       "1       Jane Doe          28.0          Female             Canadian   \n",
       "2      David Lee          45.0            Male               Korean   \n",
       "3  Sarah Johnson          29.0          Female              British   \n",
       "4     Kim Nguyen          26.0          Female           Vietnamese   \n",
       "\n",
       "  Accommodation type Accommodation cost Transportation type  \\\n",
       "0              Hotel               1200              Flight   \n",
       "1             Resort                800              Flight   \n",
       "2              Villa               1000              Flight   \n",
       "3              Hotel               2000              Flight   \n",
       "4             Airbnb                700               Train   \n",
       "\n",
       "  Transportation cost  \n",
       "0                 600  \n",
       "1                 500  \n",
       "2                 700  \n",
       "3                1000  \n",
       "4                 200  "
      ]
     },
     "execution_count": 4,
     "metadata": {},
     "output_type": "execute_result"
    }
   ],
   "source": [
    "data =pd.read_csv(\"Travel details dataset.csv\")\n",
    "data.head()"
   ]
  },
  {
   "cell_type": "code",
   "execution_count": 4,
   "metadata": {},
   "outputs": [
    {
     "name": "stdout",
     "output_type": "stream",
     "text": [
      "<class 'pandas.core.frame.DataFrame'>\n",
      "RangeIndex: 139 entries, 0 to 138\n",
      "Data columns (total 13 columns):\n",
      " #   Column                Non-Null Count  Dtype  \n",
      "---  ------                --------------  -----  \n",
      " 0   Trip ID               139 non-null    int64  \n",
      " 1   Destination           137 non-null    object \n",
      " 2   Start date            137 non-null    object \n",
      " 3   End date              137 non-null    object \n",
      " 4   Duration (days)       137 non-null    float64\n",
      " 5   Traveler name         137 non-null    object \n",
      " 6   Traveler age          137 non-null    float64\n",
      " 7   Traveler gender       137 non-null    object \n",
      " 8   Traveler nationality  137 non-null    object \n",
      " 9   Accommodation type    137 non-null    object \n",
      " 10  Accommodation cost    137 non-null    object \n",
      " 11  Transportation type   136 non-null    object \n",
      " 12  Transportation cost   136 non-null    object \n",
      "dtypes: float64(2), int64(1), object(10)\n",
      "memory usage: 14.2+ KB\n"
     ]
    }
   ],
   "source": [
    "data.info()         #Sadece trip ID duration days ve traveler age ile sayısal işlemler yapabilirim."
   ]
  },
  {
   "cell_type": "code",
   "execution_count": 5,
   "metadata": {},
   "outputs": [
    {
     "data": {
      "text/html": [
       "<div>\n",
       "<style scoped>\n",
       "    .dataframe tbody tr th:only-of-type {\n",
       "        vertical-align: middle;\n",
       "    }\n",
       "\n",
       "    .dataframe tbody tr th {\n",
       "        vertical-align: top;\n",
       "    }\n",
       "\n",
       "    .dataframe thead th {\n",
       "        text-align: right;\n",
       "    }\n",
       "</style>\n",
       "<table border=\"1\" class=\"dataframe\">\n",
       "  <thead>\n",
       "    <tr style=\"text-align: right;\">\n",
       "      <th></th>\n",
       "      <th>Trip ID</th>\n",
       "      <th>Destination</th>\n",
       "      <th>Start date</th>\n",
       "      <th>End date</th>\n",
       "      <th>Duration (days)</th>\n",
       "      <th>Traveler name</th>\n",
       "      <th>Traveler age</th>\n",
       "      <th>Traveler gender</th>\n",
       "      <th>Traveler nationality</th>\n",
       "      <th>Accommodation type</th>\n",
       "      <th>Accommodation cost</th>\n",
       "      <th>Transportation type</th>\n",
       "      <th>Transportation cost</th>\n",
       "    </tr>\n",
       "  </thead>\n",
       "  <tbody>\n",
       "    <tr>\n",
       "      <th>134</th>\n",
       "      <td>135</td>\n",
       "      <td>Rio de Janeiro, Brazil</td>\n",
       "      <td>8/1/2023</td>\n",
       "      <td>8/10/2023</td>\n",
       "      <td>9.0</td>\n",
       "      <td>Jose Perez</td>\n",
       "      <td>37.0</td>\n",
       "      <td>Male</td>\n",
       "      <td>Brazilian</td>\n",
       "      <td>Hostel</td>\n",
       "      <td>2500</td>\n",
       "      <td>Car</td>\n",
       "      <td>2000</td>\n",
       "    </tr>\n",
       "    <tr>\n",
       "      <th>135</th>\n",
       "      <td>136</td>\n",
       "      <td>Vancouver, Canada</td>\n",
       "      <td>8/15/2023</td>\n",
       "      <td>8/21/2023</td>\n",
       "      <td>6.0</td>\n",
       "      <td>Emma Wilson</td>\n",
       "      <td>29.0</td>\n",
       "      <td>Female</td>\n",
       "      <td>Canadian</td>\n",
       "      <td>Hotel</td>\n",
       "      <td>5000</td>\n",
       "      <td>Airplane</td>\n",
       "      <td>3000</td>\n",
       "    </tr>\n",
       "    <tr>\n",
       "      <th>136</th>\n",
       "      <td>137</td>\n",
       "      <td>Bangkok, Thailand</td>\n",
       "      <td>9/1/2023</td>\n",
       "      <td>9/8/2023</td>\n",
       "      <td>7.0</td>\n",
       "      <td>Ryan Chen</td>\n",
       "      <td>34.0</td>\n",
       "      <td>Male</td>\n",
       "      <td>Chinese</td>\n",
       "      <td>Hostel</td>\n",
       "      <td>2000</td>\n",
       "      <td>Train</td>\n",
       "      <td>1000</td>\n",
       "    </tr>\n",
       "    <tr>\n",
       "      <th>137</th>\n",
       "      <td>138</td>\n",
       "      <td>Barcelona, Spain</td>\n",
       "      <td>9/15/2023</td>\n",
       "      <td>9/22/2023</td>\n",
       "      <td>7.0</td>\n",
       "      <td>Sofia Rodriguez</td>\n",
       "      <td>25.0</td>\n",
       "      <td>Female</td>\n",
       "      <td>Spanish</td>\n",
       "      <td>Airbnb</td>\n",
       "      <td>6000</td>\n",
       "      <td>Airplane</td>\n",
       "      <td>2500</td>\n",
       "    </tr>\n",
       "    <tr>\n",
       "      <th>138</th>\n",
       "      <td>139</td>\n",
       "      <td>Auckland, New Zealand</td>\n",
       "      <td>10/1/2023</td>\n",
       "      <td>10/8/2023</td>\n",
       "      <td>7.0</td>\n",
       "      <td>William Brown</td>\n",
       "      <td>39.0</td>\n",
       "      <td>Male</td>\n",
       "      <td>New Zealander</td>\n",
       "      <td>Hotel</td>\n",
       "      <td>7000</td>\n",
       "      <td>Train</td>\n",
       "      <td>2500</td>\n",
       "    </tr>\n",
       "  </tbody>\n",
       "</table>\n",
       "</div>"
      ],
      "text/plain": [
       "     Trip ID             Destination Start date   End date  Duration (days)  \\\n",
       "134      135  Rio de Janeiro, Brazil   8/1/2023  8/10/2023              9.0   \n",
       "135      136       Vancouver, Canada  8/15/2023  8/21/2023              6.0   \n",
       "136      137       Bangkok, Thailand   9/1/2023   9/8/2023              7.0   \n",
       "137      138        Barcelona, Spain  9/15/2023  9/22/2023              7.0   \n",
       "138      139   Auckland, New Zealand  10/1/2023  10/8/2023              7.0   \n",
       "\n",
       "       Traveler name  Traveler age Traveler gender Traveler nationality  \\\n",
       "134       Jose Perez          37.0            Male            Brazilian   \n",
       "135      Emma Wilson          29.0          Female             Canadian   \n",
       "136        Ryan Chen          34.0            Male              Chinese   \n",
       "137  Sofia Rodriguez          25.0          Female              Spanish   \n",
       "138    William Brown          39.0            Male        New Zealander   \n",
       "\n",
       "    Accommodation type Accommodation cost Transportation type  \\\n",
       "134             Hostel               2500                 Car   \n",
       "135              Hotel               5000            Airplane   \n",
       "136             Hostel               2000               Train   \n",
       "137             Airbnb               6000            Airplane   \n",
       "138              Hotel               7000               Train   \n",
       "\n",
       "    Transportation cost  \n",
       "134                2000  \n",
       "135                3000  \n",
       "136                1000  \n",
       "137                2500  \n",
       "138                2500  "
      ]
     },
     "execution_count": 5,
     "metadata": {},
     "output_type": "execute_result"
    }
   ],
   "source": [
    "data.tail()"
   ]
  },
  {
   "cell_type": "code",
   "execution_count": 6,
   "metadata": {},
   "outputs": [
    {
     "data": {
      "text/plain": [
       "array(['London, UK', 'Phuket, Thailand', 'Bali, Indonesia',\n",
       "       'New York, USA', 'Tokyo, Japan', 'Paris, France',\n",
       "       'Sydney, Australia', 'Rio de Janeiro, Brazil',\n",
       "       'Amsterdam, Netherlands', 'Dubai, United Arab Emirates',\n",
       "       'Cancun, Mexico', 'Barcelona, Spain', 'Honolulu, Hawaii',\n",
       "       'Berlin, Germany', 'Marrakech, Morocco', 'Edinburgh, Scotland',\n",
       "       'Paris', 'Bali', 'London', 'Tokyo', 'New York', 'Sydney', 'Rome',\n",
       "       'Bangkok', 'Hawaii', 'Barcelona', 'Japan', 'Thailand', 'France',\n",
       "       'Australia', 'Brazil', 'Greece', 'Egypt', 'Mexico', 'Italy',\n",
       "       'Spain', 'Canada', 'New York City, USA', 'Bangkok, Thailand',\n",
       "       'Vancouver, Canada', 'Sydney, AUS', 'Seoul, South Korea',\n",
       "       'Los Angeles, USA', 'Rome, Italy', 'Cape Town', nan,\n",
       "       'Cape Town, SA', 'Sydney, Aus', 'Bangkok, Thai', 'Phuket, Thai',\n",
       "       'Dubai', 'Seoul', 'Rio de Janeiro', 'Amsterdam', 'Phuket',\n",
       "       'Santorini', 'Phnom Penh', 'Athens, Greece',\n",
       "       'Cape Town, South Africa', 'Auckland, New Zealand'], dtype=object)"
      ]
     },
     "execution_count": 6,
     "metadata": {},
     "output_type": "execute_result"
    }
   ],
   "source": [
    "data[\"Destination\"].unique()"
   ]
  },
  {
   "cell_type": "code",
   "execution_count": 9,
   "metadata": {},
   "outputs": [
    {
     "data": {
      "text/plain": [
       "array(['Flight', 'Train', 'Plane', 'Bus', 'Car rental', 'Subway', nan,\n",
       "       'Car', 'Ferry', 'Airplane'], dtype=object)"
      ]
     },
     "execution_count": 9,
     "metadata": {},
     "output_type": "execute_result"
    }
   ],
   "source": [
    "data[\"Transportation type\"].unique()\n"
   ]
  },
  {
   "cell_type": "code",
   "execution_count": 10,
   "metadata": {},
   "outputs": [
    {
     "data": {
      "text/plain": [
       "array([ 7.,  5., 14., 10.,  8.,  9.,  6., 13., nan, 11.])"
      ]
     },
     "execution_count": 10,
     "metadata": {},
     "output_type": "execute_result"
    }
   ],
   "source": [
    "data[\"Duration (days)\"].unique()"
   ]
  },
  {
   "cell_type": "code",
   "execution_count": 11,
   "metadata": {},
   "outputs": [
    {
     "data": {
      "text/plain": [
       "array(['Hotel', 'Resort', 'Villa', 'Airbnb', 'Hostel', 'Riad',\n",
       "       'Vacation rental', nan, 'Guesthouse'], dtype=object)"
      ]
     },
     "execution_count": 11,
     "metadata": {},
     "output_type": "execute_result"
    }
   ],
   "source": [
    "data[\"Accommodation type\"].unique()"
   ]
  },
  {
   "cell_type": "code",
   "execution_count": 12,
   "metadata": {},
   "outputs": [
    {
     "data": {
      "text/plain": [
       "array([35., 28., 45., 29., 26., 42., 33., 25., 31., 39., 27., 36., 48.,\n",
       "       32., 30., 40., 24., 34., 20., 37., 38., 55., 41., 23., 43., nan,\n",
       "       46., 60., 50., 47.])"
      ]
     },
     "execution_count": 12,
     "metadata": {},
     "output_type": "execute_result"
    }
   ],
   "source": [
    "data[\"Traveler age\"].unique()"
   ]
  },
  {
   "cell_type": "code",
   "execution_count": 14,
   "metadata": {},
   "outputs": [
    {
     "data": {
      "text/plain": [
       "count    137.000000\n",
       "mean      33.175182\n",
       "std        7.145441\n",
       "min       20.000000\n",
       "25%       28.000000\n",
       "50%       31.000000\n",
       "75%       38.000000\n",
       "max       60.000000\n",
       "Name: Traveler age, dtype: float64"
      ]
     },
     "execution_count": 14,
     "metadata": {},
     "output_type": "execute_result"
    }
   ],
   "source": [
    "data[\"Traveler age\"].describe()"
   ]
  },
  {
   "cell_type": "code",
   "execution_count": 15,
   "metadata": {},
   "outputs": [
    {
     "data": {
      "text/plain": [
       "Traveler age\n",
       "29.0    12\n",
       "27.0    12\n",
       "31.0    11\n",
       "28.0    11\n",
       "35.0    10\n",
       "33.0     9\n",
       "45.0     8\n",
       "30.0     7\n",
       "25.0     7\n",
       "42.0     7\n",
       "26.0     6\n",
       "41.0     5\n",
       "32.0     4\n",
       "24.0     4\n",
       "37.0     4\n",
       "38.0     4\n",
       "39.0     3\n",
       "34.0     2\n",
       "23.0     1\n",
       "50.0     1\n",
       "60.0     1\n",
       "46.0     1\n",
       "43.0     1\n",
       "20.0     1\n",
       "55.0     1\n",
       "40.0     1\n",
       "48.0     1\n",
       "36.0     1\n",
       "47.0     1\n",
       "Name: count, dtype: int64"
      ]
     },
     "execution_count": 15,
     "metadata": {},
     "output_type": "execute_result"
    }
   ],
   "source": [
    "data[\"Traveler age\"].value_counts()"
   ]
  },
  {
   "cell_type": "code",
   "execution_count": 16,
   "metadata": {},
   "outputs": [
    {
     "data": {
      "text/html": [
       "<div>\n",
       "<style scoped>\n",
       "    .dataframe tbody tr th:only-of-type {\n",
       "        vertical-align: middle;\n",
       "    }\n",
       "\n",
       "    .dataframe tbody tr th {\n",
       "        vertical-align: top;\n",
       "    }\n",
       "\n",
       "    .dataframe thead th {\n",
       "        text-align: right;\n",
       "    }\n",
       "</style>\n",
       "<table border=\"1\" class=\"dataframe\">\n",
       "  <thead>\n",
       "    <tr style=\"text-align: right;\">\n",
       "      <th></th>\n",
       "      <th>Trip ID</th>\n",
       "      <th>Destination</th>\n",
       "      <th>Start date</th>\n",
       "      <th>End date</th>\n",
       "      <th>Duration (days)</th>\n",
       "      <th>Traveler name</th>\n",
       "      <th>Traveler age</th>\n",
       "      <th>Traveler gender</th>\n",
       "      <th>Traveler nationality</th>\n",
       "      <th>Accommodation type</th>\n",
       "      <th>Accommodation cost</th>\n",
       "      <th>Transportation type</th>\n",
       "      <th>Transportation cost</th>\n",
       "    </tr>\n",
       "  </thead>\n",
       "  <tbody>\n",
       "    <tr>\n",
       "      <th>0</th>\n",
       "      <td>1</td>\n",
       "      <td>London, UK</td>\n",
       "      <td>5/1/2023</td>\n",
       "      <td>5/8/2023</td>\n",
       "      <td>7.0</td>\n",
       "      <td>John Smith</td>\n",
       "      <td>35.0</td>\n",
       "      <td>Male</td>\n",
       "      <td>American</td>\n",
       "      <td>Hotel</td>\n",
       "      <td>1200</td>\n",
       "      <td>Flight</td>\n",
       "      <td>600</td>\n",
       "    </tr>\n",
       "    <tr>\n",
       "      <th>1</th>\n",
       "      <td>2</td>\n",
       "      <td>Phuket, Thailand</td>\n",
       "      <td>6/15/2023</td>\n",
       "      <td>6/20/2023</td>\n",
       "      <td>5.0</td>\n",
       "      <td>Jane Doe</td>\n",
       "      <td>28.0</td>\n",
       "      <td>Female</td>\n",
       "      <td>Canadian</td>\n",
       "      <td>Resort</td>\n",
       "      <td>800</td>\n",
       "      <td>Flight</td>\n",
       "      <td>500</td>\n",
       "    </tr>\n",
       "    <tr>\n",
       "      <th>2</th>\n",
       "      <td>3</td>\n",
       "      <td>Bali, Indonesia</td>\n",
       "      <td>7/1/2023</td>\n",
       "      <td>7/8/2023</td>\n",
       "      <td>7.0</td>\n",
       "      <td>David Lee</td>\n",
       "      <td>45.0</td>\n",
       "      <td>Male</td>\n",
       "      <td>Korean</td>\n",
       "      <td>Villa</td>\n",
       "      <td>1000</td>\n",
       "      <td>Flight</td>\n",
       "      <td>700</td>\n",
       "    </tr>\n",
       "    <tr>\n",
       "      <th>3</th>\n",
       "      <td>4</td>\n",
       "      <td>New York, USA</td>\n",
       "      <td>8/15/2023</td>\n",
       "      <td>8/29/2023</td>\n",
       "      <td>14.0</td>\n",
       "      <td>Sarah Johnson</td>\n",
       "      <td>29.0</td>\n",
       "      <td>Female</td>\n",
       "      <td>British</td>\n",
       "      <td>Hotel</td>\n",
       "      <td>2000</td>\n",
       "      <td>Flight</td>\n",
       "      <td>1000</td>\n",
       "    </tr>\n",
       "    <tr>\n",
       "      <th>4</th>\n",
       "      <td>5</td>\n",
       "      <td>Tokyo, Japan</td>\n",
       "      <td>9/10/2023</td>\n",
       "      <td>9/17/2023</td>\n",
       "      <td>7.0</td>\n",
       "      <td>Kim Nguyen</td>\n",
       "      <td>26.0</td>\n",
       "      <td>Female</td>\n",
       "      <td>Vietnamese</td>\n",
       "      <td>Airbnb</td>\n",
       "      <td>700</td>\n",
       "      <td>Train</td>\n",
       "      <td>200</td>\n",
       "    </tr>\n",
       "  </tbody>\n",
       "</table>\n",
       "</div>"
      ],
      "text/plain": [
       "   Trip ID       Destination Start date   End date  Duration (days)  \\\n",
       "0        1        London, UK   5/1/2023   5/8/2023              7.0   \n",
       "1        2  Phuket, Thailand  6/15/2023  6/20/2023              5.0   \n",
       "2        3   Bali, Indonesia   7/1/2023   7/8/2023              7.0   \n",
       "3        4     New York, USA  8/15/2023  8/29/2023             14.0   \n",
       "4        5      Tokyo, Japan  9/10/2023  9/17/2023              7.0   \n",
       "\n",
       "   Traveler name  Traveler age Traveler gender Traveler nationality  \\\n",
       "0     John Smith          35.0            Male             American   \n",
       "1       Jane Doe          28.0          Female             Canadian   \n",
       "2      David Lee          45.0            Male               Korean   \n",
       "3  Sarah Johnson          29.0          Female              British   \n",
       "4     Kim Nguyen          26.0          Female           Vietnamese   \n",
       "\n",
       "  Accommodation type Accommodation cost Transportation type  \\\n",
       "0              Hotel               1200              Flight   \n",
       "1             Resort                800              Flight   \n",
       "2              Villa               1000              Flight   \n",
       "3              Hotel               2000              Flight   \n",
       "4             Airbnb                700               Train   \n",
       "\n",
       "  Transportation cost  \n",
       "0                 600  \n",
       "1                 500  \n",
       "2                 700  \n",
       "3                1000  \n",
       "4                 200  "
      ]
     },
     "execution_count": 16,
     "metadata": {},
     "output_type": "execute_result"
    }
   ],
   "source": [
    "data.head()"
   ]
  },
  {
   "cell_type": "code",
   "execution_count": 19,
   "metadata": {},
   "outputs": [
    {
     "data": {
      "text/html": [
       "<div>\n",
       "<style scoped>\n",
       "    .dataframe tbody tr th:only-of-type {\n",
       "        vertical-align: middle;\n",
       "    }\n",
       "\n",
       "    .dataframe tbody tr th {\n",
       "        vertical-align: top;\n",
       "    }\n",
       "\n",
       "    .dataframe thead th {\n",
       "        text-align: right;\n",
       "    }\n",
       "</style>\n",
       "<table border=\"1\" class=\"dataframe\">\n",
       "  <thead>\n",
       "    <tr style=\"text-align: right;\">\n",
       "      <th></th>\n",
       "      <th>Traveler gender</th>\n",
       "      <th>Traveler age</th>\n",
       "      <th>Duration (days)</th>\n",
       "    </tr>\n",
       "  </thead>\n",
       "  <tbody>\n",
       "    <tr>\n",
       "      <th>0</th>\n",
       "      <td>Female</td>\n",
       "      <td>30.328571</td>\n",
       "      <td>7.700000</td>\n",
       "    </tr>\n",
       "    <tr>\n",
       "      <th>1</th>\n",
       "      <td>Male</td>\n",
       "      <td>36.149254</td>\n",
       "      <td>7.507463</td>\n",
       "    </tr>\n",
       "  </tbody>\n",
       "</table>\n",
       "</div>"
      ],
      "text/plain": [
       "  Traveler gender  Traveler age  Duration (days)\n",
       "0          Female     30.328571         7.700000\n",
       "1            Male     36.149254         7.507463"
      ]
     },
     "execution_count": 19,
     "metadata": {},
     "output_type": "execute_result"
    }
   ],
   "source": [
    "travelergender_age=data.groupby(\"Traveler gender\")[[\"Traveler age\",\"Duration (days)\"]].mean().reset_index()\n",
    "travelergender_age"
   ]
  },
  {
   "cell_type": "code",
   "execution_count": 21,
   "metadata": {},
   "outputs": [
    {
     "data": {
      "text/html": [
       "<div>\n",
       "<style scoped>\n",
       "    .dataframe tbody tr th:only-of-type {\n",
       "        vertical-align: middle;\n",
       "    }\n",
       "\n",
       "    .dataframe tbody tr th {\n",
       "        vertical-align: top;\n",
       "    }\n",
       "\n",
       "    .dataframe thead th {\n",
       "        text-align: right;\n",
       "    }\n",
       "</style>\n",
       "<table border=\"1\" class=\"dataframe\">\n",
       "  <thead>\n",
       "    <tr style=\"text-align: right;\">\n",
       "      <th></th>\n",
       "      <th>Traveler gender</th>\n",
       "      <th>Accommodation type</th>\n",
       "      <th>count</th>\n",
       "    </tr>\n",
       "  </thead>\n",
       "  <tbody>\n",
       "    <tr>\n",
       "      <th>0</th>\n",
       "      <td>Female</td>\n",
       "      <td>Hotel</td>\n",
       "      <td>30</td>\n",
       "    </tr>\n",
       "    <tr>\n",
       "      <th>1</th>\n",
       "      <td>Female</td>\n",
       "      <td>Airbnb</td>\n",
       "      <td>18</td>\n",
       "    </tr>\n",
       "    <tr>\n",
       "      <th>2</th>\n",
       "      <td>Female</td>\n",
       "      <td>Hostel</td>\n",
       "      <td>9</td>\n",
       "    </tr>\n",
       "    <tr>\n",
       "      <th>3</th>\n",
       "      <td>Female</td>\n",
       "      <td>Resort</td>\n",
       "      <td>9</td>\n",
       "    </tr>\n",
       "    <tr>\n",
       "      <th>4</th>\n",
       "      <td>Female</td>\n",
       "      <td>Vacation rental</td>\n",
       "      <td>2</td>\n",
       "    </tr>\n",
       "    <tr>\n",
       "      <th>5</th>\n",
       "      <td>Female</td>\n",
       "      <td>Riad</td>\n",
       "      <td>1</td>\n",
       "    </tr>\n",
       "    <tr>\n",
       "      <th>6</th>\n",
       "      <td>Female</td>\n",
       "      <td>Villa</td>\n",
       "      <td>1</td>\n",
       "    </tr>\n",
       "    <tr>\n",
       "      <th>7</th>\n",
       "      <td>Male</td>\n",
       "      <td>Hotel</td>\n",
       "      <td>30</td>\n",
       "    </tr>\n",
       "    <tr>\n",
       "      <th>8</th>\n",
       "      <td>Male</td>\n",
       "      <td>Hostel</td>\n",
       "      <td>15</td>\n",
       "    </tr>\n",
       "    <tr>\n",
       "      <th>9</th>\n",
       "      <td>Male</td>\n",
       "      <td>Airbnb</td>\n",
       "      <td>12</td>\n",
       "    </tr>\n",
       "    <tr>\n",
       "      <th>10</th>\n",
       "      <td>Male</td>\n",
       "      <td>Resort</td>\n",
       "      <td>5</td>\n",
       "    </tr>\n",
       "    <tr>\n",
       "      <th>11</th>\n",
       "      <td>Male</td>\n",
       "      <td>Villa</td>\n",
       "      <td>3</td>\n",
       "    </tr>\n",
       "    <tr>\n",
       "      <th>12</th>\n",
       "      <td>Male</td>\n",
       "      <td>Guesthouse</td>\n",
       "      <td>1</td>\n",
       "    </tr>\n",
       "    <tr>\n",
       "      <th>13</th>\n",
       "      <td>Male</td>\n",
       "      <td>Vacation rental</td>\n",
       "      <td>1</td>\n",
       "    </tr>\n",
       "  </tbody>\n",
       "</table>\n",
       "</div>"
      ],
      "text/plain": [
       "   Traveler gender Accommodation type  count\n",
       "0           Female              Hotel     30\n",
       "1           Female             Airbnb     18\n",
       "2           Female             Hostel      9\n",
       "3           Female             Resort      9\n",
       "4           Female    Vacation rental      2\n",
       "5           Female               Riad      1\n",
       "6           Female              Villa      1\n",
       "7             Male              Hotel     30\n",
       "8             Male             Hostel     15\n",
       "9             Male             Airbnb     12\n",
       "10            Male             Resort      5\n",
       "11            Male              Villa      3\n",
       "12            Male         Guesthouse      1\n",
       "13            Male    Vacation rental      1"
      ]
     },
     "execution_count": 21,
     "metadata": {},
     "output_type": "execute_result"
    }
   ],
   "source": [
    "travelergender_accommodationtype=data.groupby(\"Traveler gender\")[[\"Accommodation type\"]].value_counts().reset_index()\n",
    "travelergender_accommodationtype"
   ]
  },
  {
   "cell_type": "code",
   "execution_count": 32,
   "metadata": {},
   "outputs": [
    {
     "data": {
      "text/plain": [
       "array(['1200', '800', '1000', '2000', '700', '1500', '500', '900', '2500',\n",
       "       '3000', '1400', '600', '$900 ', '$1,500 ', '$1,200 ', '$600 ',\n",
       "       '$1,000 ', '$700 ', '$400 ', '$1,400 ', '$2,000 ', '$1,100 ',\n",
       "       '$800 ', '$200 ', '$150 ', '$500 ', '$180 ', '$350 ', '2200',\n",
       "       '400', '1100', '300', '1300', '1800', nan, '500 USD', '1000 USD',\n",
       "       '800 USD', '1200 USD', '400 USD', '600 USD', '900 USD', '1500 USD',\n",
       "       '700 USD', '100', '300 USD', '200 USD', '$300 ', '200', '5000',\n",
       "       '7000', '6000', '4000', '8000'], dtype=object)"
      ]
     },
     "execution_count": 32,
     "metadata": {},
     "output_type": "execute_result"
    }
   ],
   "source": [
    "data[\"Accommodation cost\"].unique()#sadece sayısal verilerden oluşmadığı için ortalama max min gibi işlemleri yapamıyorum."
   ]
  },
  {
   "cell_type": "code",
   "execution_count": 33,
   "metadata": {},
   "outputs": [
    {
     "data": {
      "text/html": [
       "<div>\n",
       "<style scoped>\n",
       "    .dataframe tbody tr th:only-of-type {\n",
       "        vertical-align: middle;\n",
       "    }\n",
       "\n",
       "    .dataframe tbody tr th {\n",
       "        vertical-align: top;\n",
       "    }\n",
       "\n",
       "    .dataframe thead th {\n",
       "        text-align: right;\n",
       "    }\n",
       "</style>\n",
       "<table border=\"1\" class=\"dataframe\">\n",
       "  <thead>\n",
       "    <tr style=\"text-align: right;\">\n",
       "      <th></th>\n",
       "      <th>Trip ID</th>\n",
       "      <th>Destination</th>\n",
       "      <th>Start date</th>\n",
       "      <th>End date</th>\n",
       "      <th>Duration (days)</th>\n",
       "      <th>Traveler name</th>\n",
       "      <th>Traveler age</th>\n",
       "      <th>Traveler gender</th>\n",
       "      <th>Traveler nationality</th>\n",
       "      <th>Accommodation type</th>\n",
       "      <th>Accommodation cost</th>\n",
       "      <th>Transportation type</th>\n",
       "      <th>Transportation cost</th>\n",
       "    </tr>\n",
       "  </thead>\n",
       "  <tbody>\n",
       "    <tr>\n",
       "      <th>0</th>\n",
       "      <td>1</td>\n",
       "      <td>London, UK</td>\n",
       "      <td>5/1/2023</td>\n",
       "      <td>5/8/2023</td>\n",
       "      <td>7.0</td>\n",
       "      <td>John Smith</td>\n",
       "      <td>35.0</td>\n",
       "      <td>Male</td>\n",
       "      <td>American</td>\n",
       "      <td>Hotel</td>\n",
       "      <td>1200</td>\n",
       "      <td>Flight</td>\n",
       "      <td>600</td>\n",
       "    </tr>\n",
       "    <tr>\n",
       "      <th>1</th>\n",
       "      <td>2</td>\n",
       "      <td>Phuket, Thailand</td>\n",
       "      <td>6/15/2023</td>\n",
       "      <td>6/20/2023</td>\n",
       "      <td>5.0</td>\n",
       "      <td>Jane Doe</td>\n",
       "      <td>28.0</td>\n",
       "      <td>Female</td>\n",
       "      <td>Canadian</td>\n",
       "      <td>Resort</td>\n",
       "      <td>800</td>\n",
       "      <td>Flight</td>\n",
       "      <td>500</td>\n",
       "    </tr>\n",
       "    <tr>\n",
       "      <th>2</th>\n",
       "      <td>3</td>\n",
       "      <td>Bali, Indonesia</td>\n",
       "      <td>7/1/2023</td>\n",
       "      <td>7/8/2023</td>\n",
       "      <td>7.0</td>\n",
       "      <td>David Lee</td>\n",
       "      <td>45.0</td>\n",
       "      <td>Male</td>\n",
       "      <td>Korean</td>\n",
       "      <td>Villa</td>\n",
       "      <td>1000</td>\n",
       "      <td>Flight</td>\n",
       "      <td>700</td>\n",
       "    </tr>\n",
       "    <tr>\n",
       "      <th>3</th>\n",
       "      <td>4</td>\n",
       "      <td>New York, USA</td>\n",
       "      <td>8/15/2023</td>\n",
       "      <td>8/29/2023</td>\n",
       "      <td>14.0</td>\n",
       "      <td>Sarah Johnson</td>\n",
       "      <td>29.0</td>\n",
       "      <td>Female</td>\n",
       "      <td>British</td>\n",
       "      <td>Hotel</td>\n",
       "      <td>2000</td>\n",
       "      <td>Flight</td>\n",
       "      <td>1000</td>\n",
       "    </tr>\n",
       "    <tr>\n",
       "      <th>4</th>\n",
       "      <td>5</td>\n",
       "      <td>Tokyo, Japan</td>\n",
       "      <td>9/10/2023</td>\n",
       "      <td>9/17/2023</td>\n",
       "      <td>7.0</td>\n",
       "      <td>Kim Nguyen</td>\n",
       "      <td>26.0</td>\n",
       "      <td>Female</td>\n",
       "      <td>Vietnamese</td>\n",
       "      <td>Airbnb</td>\n",
       "      <td>700</td>\n",
       "      <td>Train</td>\n",
       "      <td>200</td>\n",
       "    </tr>\n",
       "  </tbody>\n",
       "</table>\n",
       "</div>"
      ],
      "text/plain": [
       "   Trip ID       Destination Start date   End date  Duration (days)  \\\n",
       "0        1        London, UK   5/1/2023   5/8/2023              7.0   \n",
       "1        2  Phuket, Thailand  6/15/2023  6/20/2023              5.0   \n",
       "2        3   Bali, Indonesia   7/1/2023   7/8/2023              7.0   \n",
       "3        4     New York, USA  8/15/2023  8/29/2023             14.0   \n",
       "4        5      Tokyo, Japan  9/10/2023  9/17/2023              7.0   \n",
       "\n",
       "   Traveler name  Traveler age Traveler gender Traveler nationality  \\\n",
       "0     John Smith          35.0            Male             American   \n",
       "1       Jane Doe          28.0          Female             Canadian   \n",
       "2      David Lee          45.0            Male               Korean   \n",
       "3  Sarah Johnson          29.0          Female              British   \n",
       "4     Kim Nguyen          26.0          Female           Vietnamese   \n",
       "\n",
       "  Accommodation type Accommodation cost Transportation type  \\\n",
       "0              Hotel               1200              Flight   \n",
       "1             Resort                800              Flight   \n",
       "2              Villa               1000              Flight   \n",
       "3              Hotel               2000              Flight   \n",
       "4             Airbnb                700               Train   \n",
       "\n",
       "  Transportation cost  \n",
       "0                 600  \n",
       "1                 500  \n",
       "2                 700  \n",
       "3                1000  \n",
       "4                 200  "
      ]
     },
     "execution_count": 33,
     "metadata": {},
     "output_type": "execute_result"
    }
   ],
   "source": [
    "data.head()"
   ]
  },
  {
   "cell_type": "code",
   "execution_count": 35,
   "metadata": {},
   "outputs": [
    {
     "data": {
      "text/plain": [
       "array(['5/1/2023', '6/15/2023', '7/1/2023', '8/15/2023', '9/10/2023',\n",
       "       '10/5/2023', '11/20/2023', '1/5/2024', '2/14/2024', '3/10/2024',\n",
       "       '4/1/2024', '5/15/2024', '6/10/2024', '7/1/2024', '8/20/2024',\n",
       "       '9/5/2024', '9/1/2023', '7/22/2023', '12/5/2023', '11/1/2023',\n",
       "       '9/15/2023', '12/22/2023', '8/1/2023', '10/20/2023', '5/10/2022',\n",
       "       '6/15/2022', '7/2/2022', '8/20/2022', '9/5/2022', '10/12/2022',\n",
       "       '11/8/2022', '1/5/2023', '2/14/2023', '3/23/2023', '4/19/2023',\n",
       "       '6/12/2022', '1/2/2023', '12/10/2022', '11/20/2022', '3/5/2023',\n",
       "       '8/18/2023', '9/15/2022', '7/10/2022', '6/20/2023', '10/10/2023',\n",
       "       '11/5/2023', '12/24/2023', '1/15/2024', '2/1/2024', '3/15/2024',\n",
       "       '4/5/2024', '5/10/2024', '6/20/2024', '7/15/2024', '7/12/2022',\n",
       "       '9/3/2022', '1/7/2023', '6/23/2023', '5/6/2024', '7/20/2024',\n",
       "       '9/8/2024', '2/14/2025', '5/21/2025', nan, '8/5/2022', '1/1/2023',\n",
       "       '4/15/2023', '6/7/2023', '11/12/2023', '2/5/2024', '1/1/2025',\n",
       "       '4/15/2025', '6/15/2021', '7/1/2021', '8/10/2021', '9/1/2021',\n",
       "       '10/15/2021', '11/20/2021', '1/1/2022', '2/14/2022', '3/10/2022',\n",
       "       '4/15/2022', '5/1/2022', '9/1/2022', '11/23/2022', '5/8/2023',\n",
       "       '8/20/2023', '1/6/2024', '4/3/2024', '7/22/2024', '10/10/2024',\n",
       "       '5/15/2022', '6/20/2022', '8/12/2022', '7/1/2022', '6/10/2022',\n",
       "       '7/15/2022', '8/25/2022', '9/10/2022', '2/5/2022', '3/15/2022',\n",
       "       '7/20/2022', '8/8/2022', '9/20/2022', '10/5/2022', '11/11/2022',\n",
       "       '12/24/2022', '2/10/2023', '5/15/2023', '6/1/2023', '7/15/2023',\n",
       "       '10/1/2023'], dtype=object)"
      ]
     },
     "execution_count": 35,
     "metadata": {},
     "output_type": "execute_result"
    }
   ],
   "source": [
    "data[\"Start date\"].unique()"
   ]
  },
  {
   "cell_type": "code",
   "execution_count": 46,
   "metadata": {},
   "outputs": [
    {
     "data": {
      "text/plain": [
       "Traveler nationality\n",
       "American                24\n",
       "Korean                  13\n",
       "British                 12\n",
       "Canadian                 9\n",
       "Australian               8\n",
       "Spanish                  7\n",
       "Chinese                  7\n",
       "Italian                  4\n",
       "Brazilian                4\n",
       "Indian                   4\n",
       "Vietnamese               3\n",
       "South Korea              3\n",
       "South Korean             3\n",
       "Taiwan                   2\n",
       "Canada                   2\n",
       "USA                      2\n",
       "South African            2\n",
       "Japanese                 2\n",
       "Mexican                  2\n",
       "Emirati                  2\n",
       "Dutch                    2\n",
       "Brazil                   1\n",
       "Cambodia                 1\n",
       "United Arab Emirates     1\n",
       "Greece                   1\n",
       "Italy                    1\n",
       "Singapore                1\n",
       "United Kingdom           1\n",
       "Hong Kong                1\n",
       "Germany                  1\n",
       "Japan                    1\n",
       "Spain                    1\n",
       "Scottish                 1\n",
       "China                    1\n",
       "UK                       1\n",
       "German                   1\n",
       "Indonesian               1\n",
       "Taiwanese                1\n",
       "Moroccan                 1\n",
       "French                   1\n",
       "New Zealander            1\n",
       "Name: count, dtype: int64"
      ]
     },
     "execution_count": 46,
     "metadata": {},
     "output_type": "execute_result"
    }
   ],
   "source": [
    "data[\"Traveler nationality\"].value_counts()"
   ]
  },
  {
   "cell_type": "code",
   "execution_count": 47,
   "metadata": {},
   "outputs": [
    {
     "data": {
      "text/html": [
       "<div>\n",
       "<style scoped>\n",
       "    .dataframe tbody tr th:only-of-type {\n",
       "        vertical-align: middle;\n",
       "    }\n",
       "\n",
       "    .dataframe tbody tr th {\n",
       "        vertical-align: top;\n",
       "    }\n",
       "\n",
       "    .dataframe thead th {\n",
       "        text-align: right;\n",
       "    }\n",
       "</style>\n",
       "<table border=\"1\" class=\"dataframe\">\n",
       "  <thead>\n",
       "    <tr style=\"text-align: right;\">\n",
       "      <th></th>\n",
       "      <th>Trip ID</th>\n",
       "      <th>Destination</th>\n",
       "      <th>Start date</th>\n",
       "      <th>End date</th>\n",
       "      <th>Duration (days)</th>\n",
       "      <th>Traveler name</th>\n",
       "      <th>Traveler age</th>\n",
       "      <th>Traveler gender</th>\n",
       "      <th>Traveler nationality</th>\n",
       "      <th>Accommodation type</th>\n",
       "      <th>Accommodation cost</th>\n",
       "      <th>Transportation type</th>\n",
       "      <th>Transportation cost</th>\n",
       "    </tr>\n",
       "  </thead>\n",
       "  <tbody>\n",
       "    <tr>\n",
       "      <th>0</th>\n",
       "      <td>1</td>\n",
       "      <td>London, UK</td>\n",
       "      <td>5/1/2023</td>\n",
       "      <td>5/8/2023</td>\n",
       "      <td>7.0</td>\n",
       "      <td>John Smith</td>\n",
       "      <td>35.0</td>\n",
       "      <td>Male</td>\n",
       "      <td>American</td>\n",
       "      <td>Hotel</td>\n",
       "      <td>1200</td>\n",
       "      <td>Flight</td>\n",
       "      <td>600</td>\n",
       "    </tr>\n",
       "    <tr>\n",
       "      <th>5</th>\n",
       "      <td>6</td>\n",
       "      <td>Paris, France</td>\n",
       "      <td>10/5/2023</td>\n",
       "      <td>10/10/2023</td>\n",
       "      <td>5.0</td>\n",
       "      <td>Michael Brown</td>\n",
       "      <td>42.0</td>\n",
       "      <td>Male</td>\n",
       "      <td>American</td>\n",
       "      <td>Hotel</td>\n",
       "      <td>1500</td>\n",
       "      <td>Flight</td>\n",
       "      <td>800</td>\n",
       "    </tr>\n",
       "    <tr>\n",
       "      <th>16</th>\n",
       "      <td>17</td>\n",
       "      <td>Paris</td>\n",
       "      <td>9/1/2023</td>\n",
       "      <td>9/10/2023</td>\n",
       "      <td>9.0</td>\n",
       "      <td>Sarah Johnson</td>\n",
       "      <td>30.0</td>\n",
       "      <td>Female</td>\n",
       "      <td>American</td>\n",
       "      <td>Hotel</td>\n",
       "      <td>$900</td>\n",
       "      <td>Plane</td>\n",
       "      <td>$400</td>\n",
       "    </tr>\n",
       "    <tr>\n",
       "      <th>20</th>\n",
       "      <td>21</td>\n",
       "      <td>New York</td>\n",
       "      <td>11/20/2023</td>\n",
       "      <td>11/25/2023</td>\n",
       "      <td>5.0</td>\n",
       "      <td>Emily Lee</td>\n",
       "      <td>27.0</td>\n",
       "      <td>Female</td>\n",
       "      <td>American</td>\n",
       "      <td>Airbnb</td>\n",
       "      <td>$600</td>\n",
       "      <td>Bus</td>\n",
       "      <td>$100</td>\n",
       "    </tr>\n",
       "    <tr>\n",
       "      <th>27</th>\n",
       "      <td>28</td>\n",
       "      <td>Japan</td>\n",
       "      <td>5/10/2022</td>\n",
       "      <td>5/18/2022</td>\n",
       "      <td>8.0</td>\n",
       "      <td>Alice Smith</td>\n",
       "      <td>30.0</td>\n",
       "      <td>Female</td>\n",
       "      <td>American</td>\n",
       "      <td>Hotel</td>\n",
       "      <td>$800</td>\n",
       "      <td>Plane</td>\n",
       "      <td>$500</td>\n",
       "    </tr>\n",
       "    <tr>\n",
       "      <th>32</th>\n",
       "      <td>33</td>\n",
       "      <td>Greece</td>\n",
       "      <td>10/12/2022</td>\n",
       "      <td>10/20/2022</td>\n",
       "      <td>8.0</td>\n",
       "      <td>Harry Wilson</td>\n",
       "      <td>20.0</td>\n",
       "      <td>Male</td>\n",
       "      <td>American</td>\n",
       "      <td>Airbnb</td>\n",
       "      <td>$400</td>\n",
       "      <td>Plane</td>\n",
       "      <td>$600</td>\n",
       "    </tr>\n",
       "    <tr>\n",
       "      <th>35</th>\n",
       "      <td>36</td>\n",
       "      <td>Italy</td>\n",
       "      <td>2/14/2023</td>\n",
       "      <td>2/20/2023</td>\n",
       "      <td>6.0</td>\n",
       "      <td>Mia Johnson</td>\n",
       "      <td>31.0</td>\n",
       "      <td>Female</td>\n",
       "      <td>American</td>\n",
       "      <td>Hostel</td>\n",
       "      <td>$180</td>\n",
       "      <td>Train</td>\n",
       "      <td>$120</td>\n",
       "    </tr>\n",
       "    <tr>\n",
       "      <th>38</th>\n",
       "      <td>39</td>\n",
       "      <td>Paris, France</td>\n",
       "      <td>6/12/2022</td>\n",
       "      <td>6/19/2022</td>\n",
       "      <td>7.0</td>\n",
       "      <td>Mia Johnson</td>\n",
       "      <td>25.0</td>\n",
       "      <td>Female</td>\n",
       "      <td>American</td>\n",
       "      <td>Hotel</td>\n",
       "      <td>1400</td>\n",
       "      <td>Plane</td>\n",
       "      <td>600</td>\n",
       "    </tr>\n",
       "    <tr>\n",
       "      <th>41</th>\n",
       "      <td>42</td>\n",
       "      <td>Cancun, Mexico</td>\n",
       "      <td>7/1/2023</td>\n",
       "      <td>7/8/2023</td>\n",
       "      <td>7.0</td>\n",
       "      <td>John Smith</td>\n",
       "      <td>45.0</td>\n",
       "      <td>Male</td>\n",
       "      <td>American</td>\n",
       "      <td>Resort</td>\n",
       "      <td>2200</td>\n",
       "      <td>Plane</td>\n",
       "      <td>800</td>\n",
       "    </tr>\n",
       "    <tr>\n",
       "      <th>45</th>\n",
       "      <td>46</td>\n",
       "      <td>New York City, USA</td>\n",
       "      <td>9/15/2022</td>\n",
       "      <td>9/22/2022</td>\n",
       "      <td>7.0</td>\n",
       "      <td>Michael Davis</td>\n",
       "      <td>41.0</td>\n",
       "      <td>Male</td>\n",
       "      <td>American</td>\n",
       "      <td>Hotel</td>\n",
       "      <td>1500</td>\n",
       "      <td>Plane</td>\n",
       "      <td>500</td>\n",
       "    </tr>\n",
       "    <tr>\n",
       "      <th>50</th>\n",
       "      <td>51</td>\n",
       "      <td>Tokyo, Japan</td>\n",
       "      <td>10/10/2023</td>\n",
       "      <td>10/20/2023</td>\n",
       "      <td>10.0</td>\n",
       "      <td>David Kim</td>\n",
       "      <td>25.0</td>\n",
       "      <td>Male</td>\n",
       "      <td>American</td>\n",
       "      <td>Hostel</td>\n",
       "      <td>$500</td>\n",
       "      <td>Bus</td>\n",
       "      <td>$100</td>\n",
       "    </tr>\n",
       "    <tr>\n",
       "      <th>60</th>\n",
       "      <td>61</td>\n",
       "      <td>Paris</td>\n",
       "      <td>7/12/2022</td>\n",
       "      <td>7/18/2022</td>\n",
       "      <td>6.0</td>\n",
       "      <td>Rachel Sanders</td>\n",
       "      <td>35.0</td>\n",
       "      <td>Female</td>\n",
       "      <td>American</td>\n",
       "      <td>Hotel</td>\n",
       "      <td>1200</td>\n",
       "      <td>Plane</td>\n",
       "      <td>800</td>\n",
       "    </tr>\n",
       "    <tr>\n",
       "      <th>65</th>\n",
       "      <td>66</td>\n",
       "      <td>Bali</td>\n",
       "      <td>2/1/2024</td>\n",
       "      <td>2/8/2024</td>\n",
       "      <td>7.0</td>\n",
       "      <td>Tom Wilson</td>\n",
       "      <td>27.0</td>\n",
       "      <td>Male</td>\n",
       "      <td>American</td>\n",
       "      <td>Resort</td>\n",
       "      <td>2200</td>\n",
       "      <td>Plane</td>\n",
       "      <td>1000</td>\n",
       "    </tr>\n",
       "    <tr>\n",
       "      <th>67</th>\n",
       "      <td>68</td>\n",
       "      <td>New York</td>\n",
       "      <td>7/20/2024</td>\n",
       "      <td>7/26/2024</td>\n",
       "      <td>6.0</td>\n",
       "      <td>James Chen</td>\n",
       "      <td>25.0</td>\n",
       "      <td>Male</td>\n",
       "      <td>American</td>\n",
       "      <td>Vacation rental</td>\n",
       "      <td>1000</td>\n",
       "      <td>Plane</td>\n",
       "      <td>800</td>\n",
       "    </tr>\n",
       "    <tr>\n",
       "      <th>73</th>\n",
       "      <td>74</td>\n",
       "      <td>Tokyo, Japan</td>\n",
       "      <td>1/1/2023</td>\n",
       "      <td>1/9/2023</td>\n",
       "      <td>8.0</td>\n",
       "      <td>Alex Kim</td>\n",
       "      <td>29.0</td>\n",
       "      <td>Male</td>\n",
       "      <td>American</td>\n",
       "      <td>Hotel</td>\n",
       "      <td>1000 USD</td>\n",
       "      <td>Train</td>\n",
       "      <td>200 USD</td>\n",
       "    </tr>\n",
       "    <tr>\n",
       "      <th>80</th>\n",
       "      <td>81</td>\n",
       "      <td>New York, USA</td>\n",
       "      <td>8/20/2024</td>\n",
       "      <td>8/27/2024</td>\n",
       "      <td>7.0</td>\n",
       "      <td>Tom Hanks</td>\n",
       "      <td>60.0</td>\n",
       "      <td>Male</td>\n",
       "      <td>American</td>\n",
       "      <td>Hotel</td>\n",
       "      <td>1500 USD</td>\n",
       "      <td>Plane</td>\n",
       "      <td>1000 USD</td>\n",
       "    </tr>\n",
       "    <tr>\n",
       "      <th>82</th>\n",
       "      <td>83</td>\n",
       "      <td>Rome, Italy</td>\n",
       "      <td>4/15/2025</td>\n",
       "      <td>4/22/2025</td>\n",
       "      <td>7.0</td>\n",
       "      <td>James Kim</td>\n",
       "      <td>41.0</td>\n",
       "      <td>Male</td>\n",
       "      <td>American</td>\n",
       "      <td>Hotel</td>\n",
       "      <td>100</td>\n",
       "      <td>NaN</td>\n",
       "      <td>NaN</td>\n",
       "    </tr>\n",
       "    <tr>\n",
       "      <th>83</th>\n",
       "      <td>84</td>\n",
       "      <td>Paris</td>\n",
       "      <td>6/15/2021</td>\n",
       "      <td>6/20/2021</td>\n",
       "      <td>6.0</td>\n",
       "      <td>John Smith</td>\n",
       "      <td>35.0</td>\n",
       "      <td>Male</td>\n",
       "      <td>American</td>\n",
       "      <td>Hotel</td>\n",
       "      <td>800 USD</td>\n",
       "      <td>Plane</td>\n",
       "      <td>500 USD</td>\n",
       "    </tr>\n",
       "    <tr>\n",
       "      <th>87</th>\n",
       "      <td>88</td>\n",
       "      <td>New York</td>\n",
       "      <td>10/15/2021</td>\n",
       "      <td>10/20/2021</td>\n",
       "      <td>6.0</td>\n",
       "      <td>Emily Davis</td>\n",
       "      <td>31.0</td>\n",
       "      <td>Female</td>\n",
       "      <td>American</td>\n",
       "      <td>Airbnb</td>\n",
       "      <td>700 USD</td>\n",
       "      <td>Car rental</td>\n",
       "      <td>200 USD</td>\n",
       "    </tr>\n",
       "    <tr>\n",
       "      <th>116</th>\n",
       "      <td>117</td>\n",
       "      <td>Tokyo, Japan</td>\n",
       "      <td>2/5/2022</td>\n",
       "      <td>2/14/2022</td>\n",
       "      <td>9.0</td>\n",
       "      <td>Alice Smith</td>\n",
       "      <td>32.0</td>\n",
       "      <td>Female</td>\n",
       "      <td>American</td>\n",
       "      <td>Hotel</td>\n",
       "      <td>1000</td>\n",
       "      <td>Plane</td>\n",
       "      <td>700</td>\n",
       "    </tr>\n",
       "    <tr>\n",
       "      <th>121</th>\n",
       "      <td>122</td>\n",
       "      <td>Cancun, Mexico</td>\n",
       "      <td>8/8/2022</td>\n",
       "      <td>8/16/2022</td>\n",
       "      <td>8.0</td>\n",
       "      <td>Frank Li</td>\n",
       "      <td>41.0</td>\n",
       "      <td>Male</td>\n",
       "      <td>American</td>\n",
       "      <td>Hotel</td>\n",
       "      <td>1300</td>\n",
       "      <td>Plane</td>\n",
       "      <td>600</td>\n",
       "    </tr>\n",
       "    <tr>\n",
       "      <th>125</th>\n",
       "      <td>126</td>\n",
       "      <td>Paris, France</td>\n",
       "      <td>12/24/2022</td>\n",
       "      <td>1/1/2023</td>\n",
       "      <td>8.0</td>\n",
       "      <td>Jack Smith</td>\n",
       "      <td>28.0</td>\n",
       "      <td>Male</td>\n",
       "      <td>American</td>\n",
       "      <td>Hostel</td>\n",
       "      <td>400</td>\n",
       "      <td>Plane</td>\n",
       "      <td>700</td>\n",
       "    </tr>\n",
       "    <tr>\n",
       "      <th>128</th>\n",
       "      <td>129</td>\n",
       "      <td>Paris, France</td>\n",
       "      <td>5/1/2023</td>\n",
       "      <td>5/7/2023</td>\n",
       "      <td>6.0</td>\n",
       "      <td>John Doe</td>\n",
       "      <td>35.0</td>\n",
       "      <td>Male</td>\n",
       "      <td>American</td>\n",
       "      <td>Hotel</td>\n",
       "      <td>5000</td>\n",
       "      <td>Airplane</td>\n",
       "      <td>2500</td>\n",
       "    </tr>\n",
       "    <tr>\n",
       "      <th>133</th>\n",
       "      <td>134</td>\n",
       "      <td>New York City, USA</td>\n",
       "      <td>7/15/2023</td>\n",
       "      <td>7/22/2023</td>\n",
       "      <td>7.0</td>\n",
       "      <td>Emily Davis</td>\n",
       "      <td>27.0</td>\n",
       "      <td>Female</td>\n",
       "      <td>American</td>\n",
       "      <td>Hotel</td>\n",
       "      <td>8000</td>\n",
       "      <td>Airplane</td>\n",
       "      <td>2500</td>\n",
       "    </tr>\n",
       "  </tbody>\n",
       "</table>\n",
       "</div>"
      ],
      "text/plain": [
       "     Trip ID         Destination  Start date    End date  Duration (days)  \\\n",
       "0          1          London, UK    5/1/2023    5/8/2023              7.0   \n",
       "5          6       Paris, France   10/5/2023  10/10/2023              5.0   \n",
       "16        17               Paris    9/1/2023   9/10/2023              9.0   \n",
       "20        21            New York  11/20/2023  11/25/2023              5.0   \n",
       "27        28               Japan   5/10/2022   5/18/2022              8.0   \n",
       "32        33              Greece  10/12/2022  10/20/2022              8.0   \n",
       "35        36               Italy   2/14/2023   2/20/2023              6.0   \n",
       "38        39       Paris, France   6/12/2022   6/19/2022              7.0   \n",
       "41        42      Cancun, Mexico    7/1/2023    7/8/2023              7.0   \n",
       "45        46  New York City, USA   9/15/2022   9/22/2022              7.0   \n",
       "50        51        Tokyo, Japan  10/10/2023  10/20/2023             10.0   \n",
       "60        61               Paris   7/12/2022   7/18/2022              6.0   \n",
       "65        66                Bali    2/1/2024    2/8/2024              7.0   \n",
       "67        68            New York   7/20/2024   7/26/2024              6.0   \n",
       "73        74        Tokyo, Japan    1/1/2023    1/9/2023              8.0   \n",
       "80        81       New York, USA   8/20/2024   8/27/2024              7.0   \n",
       "82        83         Rome, Italy   4/15/2025   4/22/2025              7.0   \n",
       "83        84               Paris   6/15/2021   6/20/2021              6.0   \n",
       "87        88            New York  10/15/2021  10/20/2021              6.0   \n",
       "116      117        Tokyo, Japan    2/5/2022   2/14/2022              9.0   \n",
       "121      122      Cancun, Mexico    8/8/2022   8/16/2022              8.0   \n",
       "125      126       Paris, France  12/24/2022    1/1/2023              8.0   \n",
       "128      129       Paris, France    5/1/2023    5/7/2023              6.0   \n",
       "133      134  New York City, USA   7/15/2023   7/22/2023              7.0   \n",
       "\n",
       "      Traveler name  Traveler age Traveler gender Traveler nationality  \\\n",
       "0        John Smith          35.0            Male             American   \n",
       "5     Michael Brown          42.0            Male             American   \n",
       "16    Sarah Johnson          30.0          Female             American   \n",
       "20        Emily Lee          27.0          Female             American   \n",
       "27      Alice Smith          30.0          Female             American   \n",
       "32     Harry Wilson          20.0            Male             American   \n",
       "35      Mia Johnson          31.0          Female             American   \n",
       "38      Mia Johnson          25.0          Female             American   \n",
       "41       John Smith          45.0            Male             American   \n",
       "45    Michael Davis          41.0            Male             American   \n",
       "50        David Kim          25.0            Male             American   \n",
       "60   Rachel Sanders          35.0          Female             American   \n",
       "65       Tom Wilson          27.0            Male             American   \n",
       "67       James Chen          25.0            Male             American   \n",
       "73         Alex Kim          29.0            Male             American   \n",
       "80        Tom Hanks          60.0            Male             American   \n",
       "82        James Kim          41.0            Male             American   \n",
       "83       John Smith          35.0            Male             American   \n",
       "87      Emily Davis          31.0          Female             American   \n",
       "116     Alice Smith          32.0          Female             American   \n",
       "121        Frank Li          41.0            Male             American   \n",
       "125      Jack Smith          28.0            Male             American   \n",
       "128        John Doe          35.0            Male             American   \n",
       "133     Emily Davis          27.0          Female             American   \n",
       "\n",
       "    Accommodation type Accommodation cost Transportation type  \\\n",
       "0                Hotel               1200              Flight   \n",
       "5                Hotel               1500              Flight   \n",
       "16               Hotel              $900                Plane   \n",
       "20              Airbnb              $600                  Bus   \n",
       "27               Hotel              $800                Plane   \n",
       "32              Airbnb              $400                Plane   \n",
       "35              Hostel              $180                Train   \n",
       "38               Hotel               1400               Plane   \n",
       "41              Resort               2200               Plane   \n",
       "45               Hotel               1500               Plane   \n",
       "50              Hostel              $500                  Bus   \n",
       "60               Hotel               1200               Plane   \n",
       "65              Resort               2200               Plane   \n",
       "67     Vacation rental               1000               Plane   \n",
       "73               Hotel           1000 USD               Train   \n",
       "80               Hotel           1500 USD               Plane   \n",
       "82               Hotel                100                 NaN   \n",
       "83               Hotel            800 USD               Plane   \n",
       "87              Airbnb            700 USD          Car rental   \n",
       "116              Hotel               1000               Plane   \n",
       "121              Hotel               1300               Plane   \n",
       "125             Hostel                400               Plane   \n",
       "128              Hotel               5000            Airplane   \n",
       "133              Hotel               8000            Airplane   \n",
       "\n",
       "    Transportation cost  \n",
       "0                   600  \n",
       "5                   800  \n",
       "16                $400   \n",
       "20                $100   \n",
       "27                $500   \n",
       "32                $600   \n",
       "35                $120   \n",
       "38                  600  \n",
       "41                  800  \n",
       "45                  500  \n",
       "50                $100   \n",
       "60                  800  \n",
       "65                 1000  \n",
       "67                  800  \n",
       "73              200 USD  \n",
       "80             1000 USD  \n",
       "82                  NaN  \n",
       "83              500 USD  \n",
       "87              200 USD  \n",
       "116                 700  \n",
       "121                 600  \n",
       "125                 700  \n",
       "128                2500  \n",
       "133                2500  "
      ]
     },
     "execution_count": 47,
     "metadata": {},
     "output_type": "execute_result"
    }
   ],
   "source": [
    "american=data[data[\"Traveler nationality\"]==\"American\"]\n",
    "american"
   ]
  },
  {
   "cell_type": "code",
   "execution_count": 55,
   "metadata": {},
   "outputs": [
    {
     "data": {
      "text/html": [
       "<div>\n",
       "<style scoped>\n",
       "    .dataframe tbody tr th:only-of-type {\n",
       "        vertical-align: middle;\n",
       "    }\n",
       "\n",
       "    .dataframe tbody tr th {\n",
       "        vertical-align: top;\n",
       "    }\n",
       "\n",
       "    .dataframe thead th {\n",
       "        text-align: right;\n",
       "    }\n",
       "</style>\n",
       "<table border=\"1\" class=\"dataframe\">\n",
       "  <thead>\n",
       "    <tr style=\"text-align: right;\">\n",
       "      <th></th>\n",
       "      <th>Trip ID</th>\n",
       "      <th>Destination</th>\n",
       "      <th>Start date</th>\n",
       "      <th>End date</th>\n",
       "      <th>Duration (days)</th>\n",
       "      <th>Traveler name</th>\n",
       "      <th>Traveler age</th>\n",
       "      <th>Traveler gender</th>\n",
       "      <th>Traveler nationality</th>\n",
       "      <th>Accommodation type</th>\n",
       "      <th>Accommodation cost</th>\n",
       "      <th>Transportation type</th>\n",
       "      <th>Transportation cost</th>\n",
       "    </tr>\n",
       "  </thead>\n",
       "  <tbody>\n",
       "    <tr>\n",
       "      <th>16</th>\n",
       "      <td>17</td>\n",
       "      <td>Paris</td>\n",
       "      <td>9/1/2023</td>\n",
       "      <td>9/10/2023</td>\n",
       "      <td>9.0</td>\n",
       "      <td>Sarah Johnson</td>\n",
       "      <td>30.0</td>\n",
       "      <td>Female</td>\n",
       "      <td>American</td>\n",
       "      <td>Hotel</td>\n",
       "      <td>$900</td>\n",
       "      <td>Plane</td>\n",
       "      <td>$400</td>\n",
       "    </tr>\n",
       "    <tr>\n",
       "      <th>20</th>\n",
       "      <td>21</td>\n",
       "      <td>New York</td>\n",
       "      <td>11/20/2023</td>\n",
       "      <td>11/25/2023</td>\n",
       "      <td>5.0</td>\n",
       "      <td>Emily Lee</td>\n",
       "      <td>27.0</td>\n",
       "      <td>Female</td>\n",
       "      <td>American</td>\n",
       "      <td>Airbnb</td>\n",
       "      <td>$600</td>\n",
       "      <td>Bus</td>\n",
       "      <td>$100</td>\n",
       "    </tr>\n",
       "    <tr>\n",
       "      <th>27</th>\n",
       "      <td>28</td>\n",
       "      <td>Japan</td>\n",
       "      <td>5/10/2022</td>\n",
       "      <td>5/18/2022</td>\n",
       "      <td>8.0</td>\n",
       "      <td>Alice Smith</td>\n",
       "      <td>30.0</td>\n",
       "      <td>Female</td>\n",
       "      <td>American</td>\n",
       "      <td>Hotel</td>\n",
       "      <td>$800</td>\n",
       "      <td>Plane</td>\n",
       "      <td>$500</td>\n",
       "    </tr>\n",
       "    <tr>\n",
       "      <th>38</th>\n",
       "      <td>39</td>\n",
       "      <td>Paris, France</td>\n",
       "      <td>6/12/2022</td>\n",
       "      <td>6/19/2022</td>\n",
       "      <td>7.0</td>\n",
       "      <td>Mia Johnson</td>\n",
       "      <td>25.0</td>\n",
       "      <td>Female</td>\n",
       "      <td>American</td>\n",
       "      <td>Hotel</td>\n",
       "      <td>1400</td>\n",
       "      <td>Plane</td>\n",
       "      <td>600</td>\n",
       "    </tr>\n",
       "    <tr>\n",
       "      <th>133</th>\n",
       "      <td>134</td>\n",
       "      <td>New York City, USA</td>\n",
       "      <td>7/15/2023</td>\n",
       "      <td>7/22/2023</td>\n",
       "      <td>7.0</td>\n",
       "      <td>Emily Davis</td>\n",
       "      <td>27.0</td>\n",
       "      <td>Female</td>\n",
       "      <td>American</td>\n",
       "      <td>Hotel</td>\n",
       "      <td>8000</td>\n",
       "      <td>Airplane</td>\n",
       "      <td>2500</td>\n",
       "    </tr>\n",
       "  </tbody>\n",
       "</table>\n",
       "</div>"
      ],
      "text/plain": [
       "     Trip ID         Destination  Start date    End date  Duration (days)  \\\n",
       "16        17               Paris    9/1/2023   9/10/2023              9.0   \n",
       "20        21            New York  11/20/2023  11/25/2023              5.0   \n",
       "27        28               Japan   5/10/2022   5/18/2022              8.0   \n",
       "38        39       Paris, France   6/12/2022   6/19/2022              7.0   \n",
       "133      134  New York City, USA   7/15/2023   7/22/2023              7.0   \n",
       "\n",
       "     Traveler name  Traveler age Traveler gender Traveler nationality  \\\n",
       "16   Sarah Johnson          30.0          Female             American   \n",
       "20       Emily Lee          27.0          Female             American   \n",
       "27     Alice Smith          30.0          Female             American   \n",
       "38     Mia Johnson          25.0          Female             American   \n",
       "133    Emily Davis          27.0          Female             American   \n",
       "\n",
       "    Accommodation type Accommodation cost Transportation type  \\\n",
       "16               Hotel              $900                Plane   \n",
       "20              Airbnb              $600                  Bus   \n",
       "27               Hotel              $800                Plane   \n",
       "38               Hotel               1400               Plane   \n",
       "133              Hotel               8000            Airplane   \n",
       "\n",
       "    Transportation cost  \n",
       "16                $400   \n",
       "20                $100   \n",
       "27                $500   \n",
       "38                  600  \n",
       "133                2500  "
      ]
     },
     "execution_count": 55,
     "metadata": {},
     "output_type": "execute_result"
    }
   ],
   "source": [
    "genc=american[(american[\"Traveler age\"]<=30) & (american[\"Traveler gender\"]==\"Female\")]\n",
    "genc"
   ]
  },
  {
   "cell_type": "code",
   "execution_count": 62,
   "metadata": {},
   "outputs": [
    {
     "data": {
      "text/plain": [
       "Text(0.5, 1.0, 'Ulaşım araçlarına göre seyehat süresi')"
      ]
     },
     "execution_count": 62,
     "metadata": {},
     "output_type": "execute_result"
    },
    {
     "data": {
      "image/png": "[encoded data removed]",
      "text/plain": [
       "<Figure size 200x400 with 1 Axes>"
      ]
     },
     "metadata": {},
     "output_type": "display_data"
    }
   ],
   "source": [
    "grafik=genc.groupby(\"Transportation type\")[[\"Duration (days)\"]].mean().reset_index()\n",
    "plt.figure(figsize=(2,4))\n",
    "sns.barplot(x=\"Transportation type\",y=\"Duration (days)\",data=grafik)\n",
    "plt.title(\"Ulaşım araçlarına göre seyehat süresi\")     #For american women 20-30 age  "
   ]
  },
  {
   "cell_type": "code",
   "execution_count": 5,
   "metadata": {},
   "outputs": [
    {
     "ename": "ValueError",
     "evalue": "Mime type rendering requires nbformat>=4.2.0 but it is not installed",
     "output_type": "error",
     "traceback": [
      "\u001b[1;31m---------------------------------------------------------------------------\u001b[0m",
      "\u001b[1;31mValueError\u001b[0m                                Traceback (most recent call last)",
      "File \u001b[1;32m~\\AppData\\Roaming\\Python\\Python312\\site-packages\\IPython\\core\\formatters.py:925\u001b[0m, in \u001b[0;36mIPythonDisplayFormatter.__call__\u001b[1;34m(self, obj)\u001b[0m\n\u001b[0;32m    923\u001b[0m method \u001b[38;5;241m=\u001b[39m get_real_method(obj, \u001b[38;5;28mself\u001b[39m\u001b[38;5;241m.\u001b[39mprint_method)\n\u001b[0;32m    924\u001b[0m \u001b[38;5;28;01mif\u001b[39;00m method \u001b[38;5;129;01mis\u001b[39;00m \u001b[38;5;129;01mnot\u001b[39;00m \u001b[38;5;28;01mNone\u001b[39;00m:\n\u001b[1;32m--> 925\u001b[0m     \u001b[43mmethod\u001b[49m\u001b[43m(\u001b[49m\u001b[43m)\u001b[49m\n\u001b[0;32m    926\u001b[0m     \u001b[38;5;28;01mreturn\u001b[39;00m \u001b[38;5;28;01mTrue\u001b[39;00m\n",
      "File \u001b[1;32mc:\\Users\\Tuğba\\AppData\\Local\\Programs\\Python\\Python312\\Lib\\site-packages\\plotly\\basedatatypes.py:832\u001b[0m, in \u001b[0;36mBaseFigure._ipython_display_\u001b[1;34m(self)\u001b[0m\n\u001b[0;32m    829\u001b[0m \u001b[38;5;28;01mimport\u001b[39;00m \u001b[38;5;21;01mplotly\u001b[39;00m\u001b[38;5;21;01m.\u001b[39;00m\u001b[38;5;21;01mio\u001b[39;00m \u001b[38;5;28;01mas\u001b[39;00m \u001b[38;5;21;01mpio\u001b[39;00m\n\u001b[0;32m    831\u001b[0m \u001b[38;5;28;01mif\u001b[39;00m pio\u001b[38;5;241m.\u001b[39mrenderers\u001b[38;5;241m.\u001b[39mrender_on_display \u001b[38;5;129;01mand\u001b[39;00m pio\u001b[38;5;241m.\u001b[39mrenderers\u001b[38;5;241m.\u001b[39mdefault:\n\u001b[1;32m--> 832\u001b[0m     \u001b[43mpio\u001b[49m\u001b[38;5;241;43m.\u001b[39;49m\u001b[43mshow\u001b[49m\u001b[43m(\u001b[49m\u001b[38;5;28;43mself\u001b[39;49m\u001b[43m)\u001b[49m\n\u001b[0;32m    833\u001b[0m \u001b[38;5;28;01melse\u001b[39;00m:\n\u001b[0;32m    834\u001b[0m     \u001b[38;5;28mprint\u001b[39m(\u001b[38;5;28mrepr\u001b[39m(\u001b[38;5;28mself\u001b[39m))\n",
      "File \u001b[1;32mc:\\Users\\Tuğba\\AppData\\Local\\Programs\\Python\\Python312\\Lib\\site-packages\\plotly\\io\\_renderers.py:394\u001b[0m, in \u001b[0;36mshow\u001b[1;34m(fig, renderer, validate, **kwargs)\u001b[0m\n\u001b[0;32m    389\u001b[0m         \u001b[38;5;28;01mraise\u001b[39;00m \u001b[38;5;167;01mValueError\u001b[39;00m(\n\u001b[0;32m    390\u001b[0m             \u001b[38;5;124m\"\u001b[39m\u001b[38;5;124mMime type rendering requires ipython but it is not installed\u001b[39m\u001b[38;5;124m\"\u001b[39m\n\u001b[0;32m    391\u001b[0m         )\n\u001b[0;32m    393\u001b[0m     \u001b[38;5;28;01mif\u001b[39;00m \u001b[38;5;129;01mnot\u001b[39;00m nbformat \u001b[38;5;129;01mor\u001b[39;00m Version(nbformat\u001b[38;5;241m.\u001b[39m__version__) \u001b[38;5;241m<\u001b[39m Version(\u001b[38;5;124m\"\u001b[39m\u001b[38;5;124m4.2.0\u001b[39m\u001b[38;5;124m\"\u001b[39m):\n\u001b[1;32m--> 394\u001b[0m         \u001b[38;5;28;01mraise\u001b[39;00m \u001b[38;5;167;01mValueError\u001b[39;00m(\n\u001b[0;32m    395\u001b[0m             \u001b[38;5;124m\"\u001b[39m\u001b[38;5;124mMime type rendering requires nbformat>=4.2.0 but it is not installed\u001b[39m\u001b[38;5;124m\"\u001b[39m\n\u001b[0;32m    396\u001b[0m         )\n\u001b[0;32m    398\u001b[0m     ipython_display\u001b[38;5;241m.\u001b[39mdisplay(bundle, raw\u001b[38;5;241m=\u001b[39m\u001b[38;5;28;01mTrue\u001b[39;00m)\n\u001b[0;32m    400\u001b[0m \u001b[38;5;66;03m# external renderers\u001b[39;00m\n",
      "\u001b[1;31mValueError\u001b[0m: Mime type rendering requires nbformat>=4.2.0 but it is not installed"
     ]
    },
    {
     "data": {
      "application/vnd.plotly.v1+json": {
       "config": {
        "plotlyServerURL": "https://plot.ly"
       },
       "data": [
        {
         "alignmentgroup": "True",
         "hovertemplate": "Transportation type=%{x}<br>Duration (days)=%{y}<extra></extra>",
         "legendgroup": "",
         "marker": {
          "color": "#636efa",
          "pattern": {
           "shape": ""
          }
         },
         "name": "",
         "offsetgroup": "",
         "orientation": "v",
         "showlegend": false,
         "textposition": "auto",
         "type": "bar",
         "x": [
          "Airplane",
          "Bus",
          "Car",
          "Car rental",
          "Ferry",
          "Flight",
          "Plane",
          "Subway",
          "Train"
         ],
         "xaxis": "x",
         "y": [
          6.4,
          7.5,
          9,
          7.769230769230769,
          7,
          7.6923076923076925,
          7.824561403508772,
          8,
          7.27027027027027
         ],
         "yaxis": "y"
        }
       ],
       "layout": {
        "barmode": "relative",
        "legend": {
         "tracegroupgap": 0
        },
        "template": {
         "data": {
          "bar": [
           {
            "error_x": {
             "color": "#2a3f5f"
            },
            "error_y": {
             "color": "#2a3f5f"
            },
            "marker": {
             "line": {
              "color": "#E5ECF6",
              "width": 0.5
             },
             "pattern": {
              "fillmode": "overlay",
              "size": 10,
              "solidity": 0.2
             }
            },
            "type": "bar"
           }
          ],
          "barpolar": [
           {
            "marker": {
             "line": {
              "color": "#E5ECF6",
              "width": 0.5
             },
             "pattern": {
              "fillmode": "overlay",
              "size": 10,
              "solidity": 0.2
             }
            },
            "type": "barpolar"
           }
          ],
          "carpet": [
           {
            "aaxis": {
             "endlinecolor": "#2a3f5f",
             "gridcolor": "white",
             "linecolor": "white",
             "minorgridcolor": "white",
             "startlinecolor": "#2a3f5f"
            },
            "baxis": {
             "endlinecolor": "#2a3f5f",
             "gridcolor": "white",
             "linecolor": "white",
             "minorgridcolor": "white",
             "startlinecolor": "#2a3f5f"
            },
            "type": "carpet"
           }
          ],
          "choropleth": [
           {
            "colorbar": {
             "outlinewidth": 0,
             "ticks": ""
            },
            "type": "choropleth"
           }
          ],
          "contour": [
           {
            "colorbar": {
             "outlinewidth": 0,
             "ticks": ""
            },
            "colorscale": [
             [
              0,
              "#0d0887"
             ],
             [
              0.1111111111111111,
              "#46039f"
             ],
             [
              0.2222222222222222,
              "#7201a8"
             ],
             [
              0.3333333333333333,
              "#9c179e"
             ],
             [
              0.4444444444444444,
              "#bd3786"
             ],
             [
              0.5555555555555556,
              "#d8576b"
             ],
             [
              0.6666666666666666,
              "#ed7953"
             ],
             [
              0.7777777777777778,
              "#fb9f3a"
             ],
             [
              0.8888888888888888,
              "#fdca26"
             ],
             [
              1,
              "#f0f921"
             ]
            ],
            "type": "contour"
           }
          ],
          "contourcarpet": [
           {
            "colorbar": {
             "outlinewidth": 0,
             "ticks": ""
            },
            "type": "contourcarpet"
           }
          ],
          "heatmap": [
           {
            "colorbar": {
             "outlinewidth": 0,
             "ticks": ""
            },
            "colorscale": [
             [
              0,
              "#0d0887"
             ],
             [
              0.1111111111111111,
              "#46039f"
             ],
             [
              0.2222222222222222,
              "#7201a8"
             ],
             [
              0.3333333333333333,
              "#9c179e"
             ],
             [
              0.4444444444444444,
              "#bd3786"
             ],
             [
              0.5555555555555556,
              "#d8576b"
             ],
             [
              0.6666666666666666,
              "#ed7953"
             ],
             [
              0.7777777777777778,
              "#fb9f3a"
             ],
             [
              0.8888888888888888,
              "#fdca26"
             ],
             [
              1,
              "#f0f921"
             ]
            ],
            "type": "heatmap"
           }
          ],
          "heatmapgl": [
           {
            "colorbar": {
             "outlinewidth": 0,
             "ticks": ""
            },
            "colorscale": [
             [
              0,
              "#0d0887"
             ],
             [
              0.1111111111111111,
              "#46039f"
             ],
             [
              0.2222222222222222,
              "#7201a8"
             ],
             [
              0.3333333333333333,
              "#9c179e"
             ],
             [
              0.4444444444444444,
              "#bd3786"
             ],
             [
              0.5555555555555556,
              "#d8576b"
             ],
             [
              0.6666666666666666,
              "#ed7953"
             ],
             [
              0.7777777777777778,
              "#fb9f3a"
             ],
             [
              0.8888888888888888,
              "#fdca26"
             ],
             [
              1,
              "#f0f921"
             ]
            ],
            "type": "heatmapgl"
           }
          ],
          "histogram": [
           {
            "marker": {
             "pattern": {
              "fillmode": "overlay",
              "size": 10,
              "solidity": 0.2
             }
            },
            "type": "histogram"
           }
          ],
          "histogram2d": [
           {
            "colorbar": {
             "outlinewidth": 0,
             "ticks": ""
            },
            "colorscale": [
             [
              0,
              "#0d0887"
             ],
             [
              0.1111111111111111,
              "#46039f"
             ],
             [
              0.2222222222222222,
              "#7201a8"
             ],
             [
              0.3333333333333333,
              "#9c179e"
             ],
             [
              0.4444444444444444,
              "#bd3786"
             ],
             [
              0.5555555555555556,
              "#d8576b"
             ],
             [
              0.6666666666666666,
              "#ed7953"
             ],
             [
              0.7777777777777778,
              "#fb9f3a"
             ],
             [
              0.8888888888888888,
              "#fdca26"
             ],
             [
              1,
              "#f0f921"
             ]
            ],
            "type": "histogram2d"
           }
          ],
          "histogram2dcontour": [
           {
            "colorbar": {
             "outlinewidth": 0,
             "ticks": ""
            },
            "colorscale": [
             [
              0,
              "#0d0887"
             ],
             [
              0.1111111111111111,
              "#46039f"
             ],
             [
              0.2222222222222222,
              "#7201a8"
             ],
             [
              0.3333333333333333,
              "#9c179e"
             ],
             [
              0.4444444444444444,
              "#bd3786"
             ],
             [
              0.5555555555555556,
              "#d8576b"
             ],
             [
              0.6666666666666666,
              "#ed7953"
             ],
             [
              0.7777777777777778,
              "#fb9f3a"
             ],
             [
              0.8888888888888888,
              "#fdca26"
             ],
             [
              1,
              "#f0f921"
             ]
            ],
            "type": "histogram2dcontour"
           }
          ],
          "mesh3d": [
           {
            "colorbar": {
             "outlinewidth": 0,
             "ticks": ""
            },
            "type": "mesh3d"
           }
          ],
          "parcoords": [
           {
            "line": {
             "colorbar": {
              "outlinewidth": 0,
              "ticks": ""
             }
            },
            "type": "parcoords"
           }
          ],
          "pie": [
           {
            "automargin": true,
            "type": "pie"
           }
          ],
          "scatter": [
           {
            "fillpattern": {
             "fillmode": "overlay",
             "size": 10,
             "solidity": 0.2
            },
            "type": "scatter"
           }
          ],
          "scatter3d": [
           {
            "line": {
             "colorbar": {
              "outlinewidth": 0,
              "ticks": ""
             }
            },
            "marker": {
             "colorbar": {
              "outlinewidth": 0,
              "ticks": ""
             }
            },
            "type": "scatter3d"
           }
          ],
          "scattercarpet": [
           {
            "marker": {
             "colorbar": {
              "outlinewidth": 0,
              "ticks": ""
             }
            },
            "type": "scattercarpet"
           }
          ],
          "scattergeo": [
           {
            "marker": {
             "colorbar": {
              "outlinewidth": 0,
              "ticks": ""
             }
            },
            "type": "scattergeo"
           }
          ],
          "scattergl": [
           {
            "marker": {
             "colorbar": {
              "outlinewidth": 0,
              "ticks": ""
             }
            },
            "type": "scattergl"
           }
          ],
          "scattermapbox": [
           {
            "marker": {
             "colorbar": {
              "outlinewidth": 0,
              "ticks": ""
             }
            },
            "type": "scattermapbox"
           }
          ],
          "scatterpolar": [
           {
            "marker": {
             "colorbar": {
              "outlinewidth": 0,
              "ticks": ""
             }
            },
            "type": "scatterpolar"
           }
          ],
          "scatterpolargl": [
           {
            "marker": {
             "colorbar": {
              "outlinewidth": 0,
              "ticks": ""
             }
            },
            "type": "scatterpolargl"
           }
          ],
          "scatterternary": [
           {
            "marker": {
             "colorbar": {
              "outlinewidth": 0,
              "ticks": ""
             }
            },
            "type": "scatterternary"
           }
          ],
          "surface": [
           {
            "colorbar": {
             "outlinewidth": 0,
             "ticks": ""
            },
            "colorscale": [
             [
              0,
              "#0d0887"
             ],
             [
              0.1111111111111111,
              "#46039f"
             ],
             [
              0.2222222222222222,
              "#7201a8"
             ],
             [
              0.3333333333333333,
              "#9c179e"
             ],
             [
              0.4444444444444444,
              "#bd3786"
             ],
             [
              0.5555555555555556,
              "#d8576b"
             ],
             [
              0.6666666666666666,
              "#ed7953"
             ],
             [
              0.7777777777777778,
              "#fb9f3a"
             ],
             [
              0.8888888888888888,
              "#fdca26"
             ],
             [
              1,
              "#f0f921"
             ]
            ],
            "type": "surface"
           }
          ],
          "table": [
           {
            "cells": {
             "fill": {
              "color": "#EBF0F8"
             },
             "line": {
              "color": "white"
             }
            },
            "header": {
             "fill": {
              "color": "#C8D4E3"
             },
             "line": {
              "color": "white"
             }
            },
            "type": "table"
           }
          ]
         },
         "layout": {
          "annotationdefaults": {
           "arrowcolor": "#2a3f5f",
           "arrowhead": 0,
           "arrowwidth": 1
          },
          "autotypenumbers": "strict",
          "coloraxis": {
           "colorbar": {
            "outlinewidth": 0,
            "ticks": ""
           }
          },
          "colorscale": {
           "diverging": [
            [
             0,
             "#8e0152"
            ],
            [
             0.1,
             "#c51b7d"
            ],
            [
             0.2,
             "#de77ae"
            ],
            [
             0.3,
             "#f1b6da"
            ],
            [
             0.4,
             "#fde0ef"
            ],
            [
             0.5,
             "#f7f7f7"
            ],
            [
             0.6,
             "#e6f5d0"
            ],
            [
             0.7,
             "#b8e186"
            ],
            [
             0.8,
             "#7fbc41"
            ],
            [
             0.9,
             "#4d9221"
            ],
            [
             1,
             "#276419"
            ]
           ],
           "sequential": [
            [
             0,
             "#0d0887"
            ],
            [
             0.1111111111111111,
             "#46039f"
            ],
            [
             0.2222222222222222,
             "#7201a8"
            ],
            [
             0.3333333333333333,
             "#9c179e"
            ],
            [
             0.4444444444444444,
             "#bd3786"
            ],
            [
             0.5555555555555556,
             "#d8576b"
            ],
            [
             0.6666666666666666,
             "#ed7953"
            ],
            [
             0.7777777777777778,
             "#fb9f3a"
            ],
            [
             0.8888888888888888,
             "#fdca26"
            ],
            [
             1,
             "#f0f921"
            ]
           ],
           "sequentialminus": [
            [
             0,
             "#0d0887"
            ],
            [
             0.1111111111111111,
             "#46039f"
            ],
            [
             0.2222222222222222,
             "#7201a8"
            ],
            [
             0.3333333333333333,
             "#9c179e"
            ],
            [
             0.4444444444444444,
             "#bd3786"
            ],
            [
             0.5555555555555556,
             "#d8576b"
            ],
            [
             0.6666666666666666,
             "#ed7953"
            ],
            [
             0.7777777777777778,
             "#fb9f3a"
            ],
            [
             0.8888888888888888,
             "#fdca26"
            ],
            [
             1,
             "#f0f921"
            ]
           ]
          },
          "colorway": [
           "#636efa",
           "#EF553B",
           "#00cc96",
           "#ab63fa",
           "#FFA15A",
           "#19d3f3",
           "#FF6692",
           "#B6E880",
           "#FF97FF",
           "#FECB52"
          ],
          "font": {
           "color": "#2a3f5f"
          },
          "geo": {
           "bgcolor": "white",
           "lakecolor": "white",
           "landcolor": "#E5ECF6",
           "showlakes": true,
           "showland": true,
           "subunitcolor": "white"
          },
          "hoverlabel": {
           "align": "left"
          },
          "hovermode": "closest",
          "mapbox": {
           "style": "light"
          },
          "paper_bgcolor": "white",
          "plot_bgcolor": "#E5ECF6",
          "polar": {
           "angularaxis": {
            "gridcolor": "white",
            "linecolor": "white",
            "ticks": ""
           },
           "bgcolor": "#E5ECF6",
           "radialaxis": {
            "gridcolor": "white",
            "linecolor": "white",
            "ticks": ""
           }
          },
          "scene": {
           "xaxis": {
            "backgroundcolor": "#E5ECF6",
            "gridcolor": "white",
            "gridwidth": 2,
            "linecolor": "white",
            "showbackground": true,
            "ticks": "",
            "zerolinecolor": "white"
           },
           "yaxis": {
            "backgroundcolor": "#E5ECF6",
            "gridcolor": "white",
            "gridwidth": 2,
            "linecolor": "white",
            "showbackground": true,
            "ticks": "",
            "zerolinecolor": "white"
           },
           "zaxis": {
            "backgroundcolor": "#E5ECF6",
            "gridcolor": "white",
            "gridwidth": 2,
            "linecolor": "white",
            "showbackground": true,
            "ticks": "",
            "zerolinecolor": "white"
           }
          },
          "shapedefaults": {
           "line": {
            "color": "#2a3f5f"
           }
          },
          "ternary": {
           "aaxis": {
            "gridcolor": "white",
            "linecolor": "white",
            "ticks": ""
           },
           "baxis": {
            "gridcolor": "white",
            "linecolor": "white",
            "ticks": ""
           },
           "bgcolor": "#E5ECF6",
           "caxis": {
            "gridcolor": "white",
            "linecolor": "white",
            "ticks": ""
           }
          },
          "title": {
           "x": 0.05
          },
          "xaxis": {
           "automargin": true,
           "gridcolor": "white",
           "linecolor": "white",
           "ticks": "",
           "title": {
            "standoff": 15
           },
           "zerolinecolor": "white",
           "zerolinewidth": 2
          },
          "yaxis": {
           "automargin": true,
           "gridcolor": "white",
           "linecolor": "white",
           "ticks": "",
           "title": {
            "standoff": 15
           },
           "zerolinecolor": "white",
           "zerolinewidth": 2
          }
         }
        },
        "title": {
         "text": "Ulaşım araçlarına göre seyehat süresi for everyone"
        },
        "xaxis": {
         "anchor": "y",
         "domain": [
          0,
          1
         ],
         "title": {
          "text": "Transportation type"
         }
        },
        "yaxis": {
         "anchor": "x",
         "domain": [
          0,
          1
         ],
         "title": {
          "text": "Duration (days)"
         }
        }
       }
      },
      "text/html": [
       "<div>                        <script type=\"text/javascript\">window.PlotlyConfig = {MathJaxConfig: 'local'};</script>\n",
       "        <script charset=\"utf-8\" src=\"https://cdn.plot.ly/plotly-2.32.0.min.js\"></script>                <div id=\"9eab6bac-e31a-4d97-8a1c-1f21c4b45271\" class=\"plotly-graph-div\" style=\"height:100%; width:100%;\"></div>            <script type=\"text/javascript\">                                    window.PLOTLYENV=window.PLOTLYENV || {};                                    if (document.getElementById(\"9eab6bac-e31a-4d97-8a1c-1f21c4b45271\")) {                    Plotly.newPlot(                        \"9eab6bac-e31a-4d97-8a1c-1f21c4b45271\",                        [{\"alignmentgroup\":\"True\",\"hovertemplate\":\"Transportation type=%{x}\\u003cbr\\u003eDuration (days)=%{y}\\u003cextra\\u003e\\u003c\\u002fextra\\u003e\",\"legendgroup\":\"\",\"marker\":{\"color\":\"#636efa\",\"pattern\":{\"shape\":\"\"}},\"name\":\"\",\"offsetgroup\":\"\",\"orientation\":\"v\",\"showlegend\":false,\"textposition\":\"auto\",\"x\":[\"Airplane\",\"Bus\",\"Car\",\"Car rental\",\"Ferry\",\"Flight\",\"Plane\",\"Subway\",\"Train\"],\"xaxis\":\"x\",\"y\":[6.4,7.5,9.0,7.769230769230769,7.0,7.6923076923076925,7.824561403508772,8.0,7.27027027027027],\"yaxis\":\"y\",\"type\":\"bar\"}],                        {\"template\":{\"data\":{\"histogram2dcontour\":[{\"type\":\"histogram2dcontour\",\"colorbar\":{\"outlinewidth\":0,\"ticks\":\"\"},\"colorscale\":[[0.0,\"#0d0887\"],[0.1111111111111111,\"#46039f\"],[0.2222222222222222,\"#7201a8\"],[0.3333333333333333,\"#9c179e\"],[0.4444444444444444,\"#bd3786\"],[0.5555555555555556,\"#d8576b\"],[0.6666666666666666,\"#ed7953\"],[0.7777777777777778,\"#fb9f3a\"],[0.8888888888888888,\"#fdca26\"],[1.0,\"#f0f921\"]]}],\"choropleth\":[{\"type\":\"choropleth\",\"colorbar\":{\"outlinewidth\":0,\"ticks\":\"\"}}],\"histogram2d\":[{\"type\":\"histogram2d\",\"colorbar\":{\"outlinewidth\":0,\"ticks\":\"\"},\"colorscale\":[[0.0,\"#0d0887\"],[0.1111111111111111,\"#46039f\"],[0.2222222222222222,\"#7201a8\"],[0.3333333333333333,\"#9c179e\"],[0.4444444444444444,\"#bd3786\"],[0.5555555555555556,\"#d8576b\"],[0.6666666666666666,\"#ed7953\"],[0.7777777777777778,\"#fb9f3a\"],[0.8888888888888888,\"#fdca26\"],[1.0,\"#f0f921\"]]}],\"heatmap\":[{\"type\":\"heatmap\",\"colorbar\":{\"outlinewidth\":0,\"ticks\":\"\"},\"colorscale\":[[0.0,\"#0d0887\"],[0.1111111111111111,\"#46039f\"],[0.2222222222222222,\"#7201a8\"],[0.3333333333333333,\"#9c179e\"],[0.4444444444444444,\"#bd3786\"],[0.5555555555555556,\"#d8576b\"],[0.6666666666666666,\"#ed7953\"],[0.7777777777777778,\"#fb9f3a\"],[0.8888888888888888,\"#fdca26\"],[1.0,\"#f0f921\"]]}],\"heatmapgl\":[{\"type\":\"heatmapgl\",\"colorbar\":{\"outlinewidth\":0,\"ticks\":\"\"},\"colorscale\":[[0.0,\"#0d0887\"],[0.1111111111111111,\"#46039f\"],[0.2222222222222222,\"#7201a8\"],[0.3333333333333333,\"#9c179e\"],[0.4444444444444444,\"#bd3786\"],[0.5555555555555556,\"#d8576b\"],[0.6666666666666666,\"#ed7953\"],[0.7777777777777778,\"#fb9f3a\"],[0.8888888888888888,\"#fdca26\"],[1.0,\"#f0f921\"]]}],\"contourcarpet\":[{\"type\":\"contourcarpet\",\"colorbar\":{\"outlinewidth\":0,\"ticks\":\"\"}}],\"contour\":[{\"type\":\"contour\",\"colorbar\":{\"outlinewidth\":0,\"ticks\":\"\"},\"colorscale\":[[0.0,\"#0d0887\"],[0.1111111111111111,\"#46039f\"],[0.2222222222222222,\"#7201a8\"],[0.3333333333333333,\"#9c179e\"],[0.4444444444444444,\"#bd3786\"],[0.5555555555555556,\"#d8576b\"],[0.6666666666666666,\"#ed7953\"],[0.7777777777777778,\"#fb9f3a\"],[0.8888888888888888,\"#fdca26\"],[1.0,\"#f0f921\"]]}],\"surface\":[{\"type\":\"surface\",\"colorbar\":{\"outlinewidth\":0,\"ticks\":\"\"},\"colorscale\":[[0.0,\"#0d0887\"],[0.1111111111111111,\"#46039f\"],[0.2222222222222222,\"#7201a8\"],[0.3333333333333333,\"#9c179e\"],[0.4444444444444444,\"#bd3786\"],[0.5555555555555556,\"#d8576b\"],[0.6666666666666666,\"#ed7953\"],[0.7777777777777778,\"#fb9f3a\"],[0.8888888888888888,\"#fdca26\"],[1.0,\"#f0f921\"]]}],\"mesh3d\":[{\"type\":\"mesh3d\",\"colorbar\":{\"outlinewidth\":0,\"ticks\":\"\"}}],\"scatter\":[{\"fillpattern\":{\"fillmode\":\"overlay\",\"size\":10,\"solidity\":0.2},\"type\":\"scatter\"}],\"parcoords\":[{\"type\":\"parcoords\",\"line\":{\"colorbar\":{\"outlinewidth\":0,\"ticks\":\"\"}}}],\"scatterpolargl\":[{\"type\":\"scatterpolargl\",\"marker\":{\"colorbar\":{\"outlinewidth\":0,\"ticks\":\"\"}}}],\"bar\":[{\"error_x\":{\"color\":\"#2a3f5f\"},\"error_y\":{\"color\":\"#2a3f5f\"},\"marker\":{\"line\":{\"color\":\"#E5ECF6\",\"width\":0.5},\"pattern\":{\"fillmode\":\"overlay\",\"size\":10,\"solidity\":0.2}},\"type\":\"bar\"}],\"scattergeo\":[{\"type\":\"scattergeo\",\"marker\":{\"colorbar\":{\"outlinewidth\":0,\"ticks\":\"\"}}}],\"scatterpolar\":[{\"type\":\"scatterpolar\",\"marker\":{\"colorbar\":{\"outlinewidth\":0,\"ticks\":\"\"}}}],\"histogram\":[{\"marker\":{\"pattern\":{\"fillmode\":\"overlay\",\"size\":10,\"solidity\":0.2}},\"type\":\"histogram\"}],\"scattergl\":[{\"type\":\"scattergl\",\"marker\":{\"colorbar\":{\"outlinewidth\":0,\"ticks\":\"\"}}}],\"scatter3d\":[{\"type\":\"scatter3d\",\"line\":{\"colorbar\":{\"outlinewidth\":0,\"ticks\":\"\"}},\"marker\":{\"colorbar\":{\"outlinewidth\":0,\"ticks\":\"\"}}}],\"scattermapbox\":[{\"type\":\"scattermapbox\",\"marker\":{\"colorbar\":{\"outlinewidth\":0,\"ticks\":\"\"}}}],\"scatterternary\":[{\"type\":\"scatterternary\",\"marker\":{\"colorbar\":{\"outlinewidth\":0,\"ticks\":\"\"}}}],\"scattercarpet\":[{\"type\":\"scattercarpet\",\"marker\":{\"colorbar\":{\"outlinewidth\":0,\"ticks\":\"\"}}}],\"carpet\":[{\"aaxis\":{\"endlinecolor\":\"#2a3f5f\",\"gridcolor\":\"white\",\"linecolor\":\"white\",\"minorgridcolor\":\"white\",\"startlinecolor\":\"#2a3f5f\"},\"baxis\":{\"endlinecolor\":\"#2a3f5f\",\"gridcolor\":\"white\",\"linecolor\":\"white\",\"minorgridcolor\":\"white\",\"startlinecolor\":\"#2a3f5f\"},\"type\":\"carpet\"}],\"table\":[{\"cells\":{\"fill\":{\"color\":\"#EBF0F8\"},\"line\":{\"color\":\"white\"}},\"header\":{\"fill\":{\"color\":\"#C8D4E3\"},\"line\":{\"color\":\"white\"}},\"type\":\"table\"}],\"barpolar\":[{\"marker\":{\"line\":{\"color\":\"#E5ECF6\",\"width\":0.5},\"pattern\":{\"fillmode\":\"overlay\",\"size\":10,\"solidity\":0.2}},\"type\":\"barpolar\"}],\"pie\":[{\"automargin\":true,\"type\":\"pie\"}]},\"layout\":{\"autotypenumbers\":\"strict\",\"colorway\":[\"#636efa\",\"#EF553B\",\"#00cc96\",\"#ab63fa\",\"#FFA15A\",\"#19d3f3\",\"#FF6692\",\"#B6E880\",\"#FF97FF\",\"#FECB52\"],\"font\":{\"color\":\"#2a3f5f\"},\"hovermode\":\"closest\",\"hoverlabel\":{\"align\":\"left\"},\"paper_bgcolor\":\"white\",\"plot_bgcolor\":\"#E5ECF6\",\"polar\":{\"bgcolor\":\"#E5ECF6\",\"angularaxis\":{\"gridcolor\":\"white\",\"linecolor\":\"white\",\"ticks\":\"\"},\"radialaxis\":{\"gridcolor\":\"white\",\"linecolor\":\"white\",\"ticks\":\"\"}},\"ternary\":{\"bgcolor\":\"#E5ECF6\",\"aaxis\":{\"gridcolor\":\"white\",\"linecolor\":\"white\",\"ticks\":\"\"},\"baxis\":{\"gridcolor\":\"white\",\"linecolor\":\"white\",\"ticks\":\"\"},\"caxis\":{\"gridcolor\":\"white\",\"linecolor\":\"white\",\"ticks\":\"\"}},\"coloraxis\":{\"colorbar\":{\"outlinewidth\":0,\"ticks\":\"\"}},\"colorscale\":{\"sequential\":[[0.0,\"#0d0887\"],[0.1111111111111111,\"#46039f\"],[0.2222222222222222,\"#7201a8\"],[0.3333333333333333,\"#9c179e\"],[0.4444444444444444,\"#bd3786\"],[0.5555555555555556,\"#d8576b\"],[0.6666666666666666,\"#ed7953\"],[0.7777777777777778,\"#fb9f3a\"],[0.8888888888888888,\"#fdca26\"],[1.0,\"#f0f921\"]],\"sequentialminus\":[[0.0,\"#0d0887\"],[0.1111111111111111,\"#46039f\"],[0.2222222222222222,\"#7201a8\"],[0.3333333333333333,\"#9c179e\"],[0.4444444444444444,\"#bd3786\"],[0.5555555555555556,\"#d8576b\"],[0.6666666666666666,\"#ed7953\"],[0.7777777777777778,\"#fb9f3a\"],[0.8888888888888888,\"#fdca26\"],[1.0,\"#f0f921\"]],\"diverging\":[[0,\"#8e0152\"],[0.1,\"#c51b7d\"],[0.2,\"#de77ae\"],[0.3,\"#f1b6da\"],[0.4,\"#fde0ef\"],[0.5,\"#f7f7f7\"],[0.6,\"#e6f5d0\"],[0.7,\"#b8e186\"],[0.8,\"#7fbc41\"],[0.9,\"#4d9221\"],[1,\"#276419\"]]},\"xaxis\":{\"gridcolor\":\"white\",\"linecolor\":\"white\",\"ticks\":\"\",\"title\":{\"standoff\":15},\"zerolinecolor\":\"white\",\"automargin\":true,\"zerolinewidth\":2},\"yaxis\":{\"gridcolor\":\"white\",\"linecolor\":\"white\",\"ticks\":\"\",\"title\":{\"standoff\":15},\"zerolinecolor\":\"white\",\"automargin\":true,\"zerolinewidth\":2},\"scene\":{\"xaxis\":{\"backgroundcolor\":\"#E5ECF6\",\"gridcolor\":\"white\",\"linecolor\":\"white\",\"showbackground\":true,\"ticks\":\"\",\"zerolinecolor\":\"white\",\"gridwidth\":2},\"yaxis\":{\"backgroundcolor\":\"#E5ECF6\",\"gridcolor\":\"white\",\"linecolor\":\"white\",\"showbackground\":true,\"ticks\":\"\",\"zerolinecolor\":\"white\",\"gridwidth\":2},\"zaxis\":{\"backgroundcolor\":\"#E5ECF6\",\"gridcolor\":\"white\",\"linecolor\":\"white\",\"showbackground\":true,\"ticks\":\"\",\"zerolinecolor\":\"white\",\"gridwidth\":2}},\"shapedefaults\":{\"line\":{\"color\":\"#2a3f5f\"}},\"annotationdefaults\":{\"arrowcolor\":\"#2a3f5f\",\"arrowhead\":0,\"arrowwidth\":1},\"geo\":{\"bgcolor\":\"white\",\"landcolor\":\"#E5ECF6\",\"subunitcolor\":\"white\",\"showland\":true,\"showlakes\":true,\"lakecolor\":\"white\"},\"title\":{\"x\":0.05},\"mapbox\":{\"style\":\"light\"}}},\"xaxis\":{\"anchor\":\"y\",\"domain\":[0.0,1.0],\"title\":{\"text\":\"Transportation type\"}},\"yaxis\":{\"anchor\":\"x\",\"domain\":[0.0,1.0],\"title\":{\"text\":\"Duration (days)\"}},\"legend\":{\"tracegroupgap\":0},\"title\":{\"text\":\"Ula\\u015f\\u0131m ara\\u00e7lar\\u0131na g\\u00f6re seyehat s\\u00fcresi for everyone\"},\"barmode\":\"relative\"},                        {\"responsive\": true}                    )                };                            </script>        </div>"
      ],
      "text/plain": [
       "Figure({\n",
       "    'data': [{'alignmentgroup': 'True',\n",
       "              'hovertemplate': 'Transportation type=%{x}<br>Duration (days)=%{y}<extra></extra>',\n",
       "              'legendgroup': '',\n",
       "              'marker': {'color': '#636efa', 'pattern': {'shape': ''}},\n",
       "              'name': '',\n",
       "              'offsetgroup': '',\n",
       "              'orientation': 'v',\n",
       "              'showlegend': False,\n",
       "              'textposition': 'auto',\n",
       "              'type': 'bar',\n",
       "              'x': array(['Airplane', 'Bus', 'Car', 'Car rental', 'Ferry', 'Flight', 'Plane',\n",
       "                          'Subway', 'Train'], dtype=object),\n",
       "              'xaxis': 'x',\n",
       "              'y': array([6.4       , 7.5       , 9.        , 7.76923077, 7.        , 7.69230769,\n",
       "                          7.8245614 , 8.        , 7.27027027]),\n",
       "              'yaxis': 'y'}],\n",
       "    'layout': {'barmode': 'relative',\n",
       "               'legend': {'tracegroupgap': 0},\n",
       "               'template': '...',\n",
       "               'title': {'text': 'Ulaşım araçlarına göre seyehat süresi for everyone'},\n",
       "               'xaxis': {'anchor': 'y', 'domain': [0.0, 1.0], 'title': {'text': 'Transportation type'}},\n",
       "               'yaxis': {'anchor': 'x', 'domain': [0.0, 1.0], 'title': {'text': 'Duration (days)'}}}\n",
       "})"
      ]
     },
     "execution_count": 5,
     "metadata": {},
     "output_type": "execute_result"
    }
   ],
   "source": [
    "foreveryone=data.groupby(\"Transportation type\")[[\"Duration (days)\"]].mean().reset_index()\n",
    "px.bar(x=\"Transportation type\",y=\"Duration (days)\",data_frame=foreveryone,title=\"Ulaşım araçlarına göre seyehat süresi for everyone\")\n"
   ]
  },
  {
   "cell_type": "code",
   "execution_count": null,
   "metadata": {},
   "outputs": [],
   "source": []
  }
 ],
 "metadata": {
  "kernelspec": {
   "display_name": "Python 3",
   "language": "python",
   "name": "python3"
  },
  "language_info": {
   "codemirror_mode": {
    "name": "ipython",
    "version": 3
   },
   "file_extension": ".py",
   "mimetype": "text/x-python",
   "name": "python",
   "nbconvert_exporter": "python",
   "pygments_lexer": "ipython3",
   "version": "3.12.1"
  }
 },
 "nbformat": 4,
 "nbformat_minor": 2
}
